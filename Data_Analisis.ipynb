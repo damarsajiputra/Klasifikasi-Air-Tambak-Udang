{
 "cells": [
  {
   "cell_type": "code",
   "execution_count": 1,
   "metadata": {},
   "outputs": [],
   "source": [
    "from firebase_admin import credentials, initialize_app, db\n",
    "import pandas as pd\n",
    "import matplotlib.pyplot as plt\n",
    "import matplotlib.ticker as ticker\n",
    "import seaborn as sns\n",
    "import numpy as np"
   ]
  },
  {
   "cell_type": "markdown",
   "metadata": {},
   "source": [
    "### Get Data dari Firebase"
   ]
  },
  {
   "cell_type": "code",
   "execution_count": 2,
   "metadata": {},
   "outputs": [
    {
     "data": {
      "text/plain": [
       "<firebase_admin.App at 0x269f307ea60>"
      ]
     },
     "execution_count": 2,
     "metadata": {},
     "output_type": "execute_result"
    }
   ],
   "source": [
    "cred = credentials.Certificate({\n",
    "    \"type\": \"\",\n",
    "    \"project_id\": \"\",\n",
    "    \"private_key_id\": \"\",\n",
    "    \"private_key\": \"\",\n",
    "    \"client_email\": \",\n",
    "    \"client_id\": \"\",\n",
    "    \"auth_uri\": \",\n",
    "    \"token_uri\": \"\",\n",
    "    \"auth_provider_x509_cert_url\": \"\",\n",
    "    \"client_x509_cert_url\": \"\",\n",
    "    \"universe_domain\": \"\"\n",
    "})\n",
    "\n",
    "initialize_app(cred, {\"databaseURL\": \"https://datasensorairtambakudang-default-rtdb.\"})"
   ]
  },
  {
   "cell_type": "code",
   "execution_count": 3,
   "metadata": {},
   "outputs": [
    {
     "data": {
      "text/html": [
       "<div>\n",
       "<style scoped>\n",
       "    .dataframe tbody tr th:only-of-type {\n",
       "        vertical-align: middle;\n",
       "    }\n",
       "\n",
       "    .dataframe tbody tr th {\n",
       "        vertical-align: top;\n",
       "    }\n",
       "\n",
       "    .dataframe thead th {\n",
       "        text-align: right;\n",
       "    }\n",
       "</style>\n",
       "<table border=\"1\" class=\"dataframe\">\n",
       "  <thead>\n",
       "    <tr style=\"text-align: right;\">\n",
       "      <th></th>\n",
       "      <th>ph</th>\n",
       "      <th>suhu</th>\n",
       "      <th>tds</th>\n",
       "    </tr>\n",
       "  </thead>\n",
       "  <tbody>\n",
       "    <tr>\n",
       "      <th>2024-01-09  14:01</th>\n",
       "      <td>6.15636</td>\n",
       "      <td>30.5000</td>\n",
       "      <td>1.53350</td>\n",
       "    </tr>\n",
       "    <tr>\n",
       "      <th>2024-01-09  14:16</th>\n",
       "      <td>7.20735</td>\n",
       "      <td>31.8125</td>\n",
       "      <td>1.64560</td>\n",
       "    </tr>\n",
       "    <tr>\n",
       "      <th>2024-01-09  14:31</th>\n",
       "      <td>6.16948</td>\n",
       "      <td>31.7500</td>\n",
       "      <td>1.67102</td>\n",
       "    </tr>\n",
       "    <tr>\n",
       "      <th>2024-01-09  14:46</th>\n",
       "      <td>6.53777</td>\n",
       "      <td>31.7500</td>\n",
       "      <td>1.68186</td>\n",
       "    </tr>\n",
       "    <tr>\n",
       "      <th>2024-01-09  15:02</th>\n",
       "      <td>7.88636</td>\n",
       "      <td>31.8125</td>\n",
       "      <td>1.66165</td>\n",
       "    </tr>\n",
       "    <tr>\n",
       "      <th>...</th>\n",
       "      <td>...</td>\n",
       "      <td>...</td>\n",
       "      <td>...</td>\n",
       "    </tr>\n",
       "    <tr>\n",
       "      <th>2024-03-07  11:41:02</th>\n",
       "      <td>2.38817</td>\n",
       "      <td>25.4375</td>\n",
       "      <td>0.00000</td>\n",
       "    </tr>\n",
       "    <tr>\n",
       "      <th>2024-03-07  11:46:02</th>\n",
       "      <td>NaN</td>\n",
       "      <td>25.4375</td>\n",
       "      <td>NaN</td>\n",
       "    </tr>\n",
       "    <tr>\n",
       "      <th>2024-03-07  11:51:03</th>\n",
       "      <td>1.66227</td>\n",
       "      <td>25.4375</td>\n",
       "      <td>0.00000</td>\n",
       "    </tr>\n",
       "    <tr>\n",
       "      <th>2024-03-07  11:56:02</th>\n",
       "      <td>1.79451</td>\n",
       "      <td>25.4375</td>\n",
       "      <td>0.00000</td>\n",
       "    </tr>\n",
       "    <tr>\n",
       "      <th>2024-03-07  12:01:02</th>\n",
       "      <td>1.78894</td>\n",
       "      <td>25.5000</td>\n",
       "      <td>0.00000</td>\n",
       "    </tr>\n",
       "  </tbody>\n",
       "</table>\n",
       "<p>64 rows × 3 columns</p>\n",
       "</div>"
      ],
      "text/plain": [
       "                           ph     suhu      tds\n",
       "2024-01-09  14:01     6.15636  30.5000  1.53350\n",
       "2024-01-09  14:16     7.20735  31.8125  1.64560\n",
       "2024-01-09  14:31     6.16948  31.7500  1.67102\n",
       "2024-01-09  14:46     6.53777  31.7500  1.68186\n",
       "2024-01-09  15:02     7.88636  31.8125  1.66165\n",
       "...                       ...      ...      ...\n",
       "2024-03-07  11:41:02  2.38817  25.4375  0.00000\n",
       "2024-03-07  11:46:02      NaN  25.4375      NaN\n",
       "2024-03-07  11:51:03  1.66227  25.4375  0.00000\n",
       "2024-03-07  11:56:02  1.79451  25.4375  0.00000\n",
       "2024-03-07  12:01:02  1.78894  25.5000  0.00000\n",
       "\n",
       "[64 rows x 3 columns]"
      ]
     },
     "execution_count": 3,
     "metadata": {},
     "output_type": "execute_result"
    }
   ],
   "source": [
    "db_ref = db.reference('air_tambak')\n",
    "get_data = db_ref.get()\n",
    "df = pd.DataFrame(get_data)\n",
    "df = df.T\n",
    "df"
   ]
  },
  {
   "cell_type": "code",
   "execution_count": 4,
   "metadata": {},
   "outputs": [],
   "source": [
    "df.index = pd.to_datetime(df.index)\n",
    "\n",
    "# Round down the index values to the nearest minute\n",
    "df.index = df.index.floor('T')\n",
    "\n",
    "df.index = df.index.strftime('%Y-%m-%d %H:%M')"
   ]
  },
  {
   "cell_type": "code",
   "execution_count": 5,
   "metadata": {},
   "outputs": [],
   "source": [
    "df = df.head(33)"
   ]
  },
  {
   "cell_type": "code",
   "execution_count": 6,
   "metadata": {},
   "outputs": [
    {
     "data": {
      "text/html": [
       "<div>\n",
       "<style scoped>\n",
       "    .dataframe tbody tr th:only-of-type {\n",
       "        vertical-align: middle;\n",
       "    }\n",
       "\n",
       "    .dataframe tbody tr th {\n",
       "        vertical-align: top;\n",
       "    }\n",
       "\n",
       "    .dataframe thead th {\n",
       "        text-align: right;\n",
       "    }\n",
       "</style>\n",
       "<table border=\"1\" class=\"dataframe\">\n",
       "  <thead>\n",
       "    <tr style=\"text-align: right;\">\n",
       "      <th></th>\n",
       "      <th>ph</th>\n",
       "      <th>suhu</th>\n",
       "      <th>tds</th>\n",
       "    </tr>\n",
       "  </thead>\n",
       "  <tbody>\n",
       "    <tr>\n",
       "      <th>2024-01-09 14:01</th>\n",
       "      <td>6.15636</td>\n",
       "      <td>30.5000</td>\n",
       "      <td>1.533500</td>\n",
       "    </tr>\n",
       "    <tr>\n",
       "      <th>2024-01-09 14:16</th>\n",
       "      <td>7.20735</td>\n",
       "      <td>31.8125</td>\n",
       "      <td>1.645600</td>\n",
       "    </tr>\n",
       "    <tr>\n",
       "      <th>2024-01-09 14:31</th>\n",
       "      <td>6.16948</td>\n",
       "      <td>31.7500</td>\n",
       "      <td>1.671020</td>\n",
       "    </tr>\n",
       "    <tr>\n",
       "      <th>2024-01-09 14:46</th>\n",
       "      <td>6.53777</td>\n",
       "      <td>31.7500</td>\n",
       "      <td>1.681860</td>\n",
       "    </tr>\n",
       "    <tr>\n",
       "      <th>2024-01-09 15:02</th>\n",
       "      <td>7.88636</td>\n",
       "      <td>31.8125</td>\n",
       "      <td>1.661650</td>\n",
       "    </tr>\n",
       "    <tr>\n",
       "      <th>2024-01-09 15:17</th>\n",
       "      <td>6.99847</td>\n",
       "      <td>31.9375</td>\n",
       "      <td>1.665520</td>\n",
       "    </tr>\n",
       "    <tr>\n",
       "      <th>2024-01-09 15:32</th>\n",
       "      <td>7.21207</td>\n",
       "      <td>31.8125</td>\n",
       "      <td>1.665950</td>\n",
       "    </tr>\n",
       "    <tr>\n",
       "      <th>2024-01-09 15:47</th>\n",
       "      <td>8.07555</td>\n",
       "      <td>31.8750</td>\n",
       "      <td>1.690130</td>\n",
       "    </tr>\n",
       "    <tr>\n",
       "      <th>2024-01-09 16:02</th>\n",
       "      <td>6.52076</td>\n",
       "      <td>31.8125</td>\n",
       "      <td>1.689800</td>\n",
       "    </tr>\n",
       "    <tr>\n",
       "      <th>2024-01-12 12:10</th>\n",
       "      <td>7.23724</td>\n",
       "      <td>32.5625</td>\n",
       "      <td>1.567640</td>\n",
       "    </tr>\n",
       "    <tr>\n",
       "      <th>2024-01-12 12:25</th>\n",
       "      <td>6.88364</td>\n",
       "      <td>32.6875</td>\n",
       "      <td>1.603130</td>\n",
       "    </tr>\n",
       "    <tr>\n",
       "      <th>2024-01-12 12:40</th>\n",
       "      <td>5.75768</td>\n",
       "      <td>32.8750</td>\n",
       "      <td>1.598970</td>\n",
       "    </tr>\n",
       "    <tr>\n",
       "      <th>2024-01-12 12:55</th>\n",
       "      <td>6.16645</td>\n",
       "      <td>32.9375</td>\n",
       "      <td>1.556490</td>\n",
       "    </tr>\n",
       "    <tr>\n",
       "      <th>2024-01-12 13:10</th>\n",
       "      <td>5.48843</td>\n",
       "      <td>33.0625</td>\n",
       "      <td>1.578440</td>\n",
       "    </tr>\n",
       "    <tr>\n",
       "      <th>2024-01-12 13:26</th>\n",
       "      <td>7.47619</td>\n",
       "      <td>33.2500</td>\n",
       "      <td>1.522400</td>\n",
       "    </tr>\n",
       "    <tr>\n",
       "      <th>2024-01-12 13:41</th>\n",
       "      <td>6.38694</td>\n",
       "      <td>33.3750</td>\n",
       "      <td>1.578130</td>\n",
       "    </tr>\n",
       "    <tr>\n",
       "      <th>2024-01-12 13:56</th>\n",
       "      <td>5.61907</td>\n",
       "      <td>33.4375</td>\n",
       "      <td>1.567300</td>\n",
       "    </tr>\n",
       "    <tr>\n",
       "      <th>2024-01-12 14:01</th>\n",
       "      <td>6.54677</td>\n",
       "      <td>33.5000</td>\n",
       "      <td>1.554540</td>\n",
       "    </tr>\n",
       "    <tr>\n",
       "      <th>2024-01-12 16:42</th>\n",
       "      <td>7.55913</td>\n",
       "      <td>33.0625</td>\n",
       "      <td>1.509410</td>\n",
       "    </tr>\n",
       "    <tr>\n",
       "      <th>2024-01-12 16:57</th>\n",
       "      <td>6.86492</td>\n",
       "      <td>33.0000</td>\n",
       "      <td>1.510944</td>\n",
       "    </tr>\n",
       "    <tr>\n",
       "      <th>2024-01-12 17:12</th>\n",
       "      <td>6.57654</td>\n",
       "      <td>32.9375</td>\n",
       "      <td>1.501270</td>\n",
       "    </tr>\n",
       "    <tr>\n",
       "      <th>2024-01-13 11:35</th>\n",
       "      <td>5.90072</td>\n",
       "      <td>32.3750</td>\n",
       "      <td>1.509160</td>\n",
       "    </tr>\n",
       "    <tr>\n",
       "      <th>2024-01-13 11:50</th>\n",
       "      <td>5.39292</td>\n",
       "      <td>31.5625</td>\n",
       "      <td>1.493550</td>\n",
       "    </tr>\n",
       "    <tr>\n",
       "      <th>2024-01-13 12:05</th>\n",
       "      <td>5.92861</td>\n",
       "      <td>32.5000</td>\n",
       "      <td>1.473970</td>\n",
       "    </tr>\n",
       "    <tr>\n",
       "      <th>2024-01-13 12:21</th>\n",
       "      <td>8.03553</td>\n",
       "      <td>32.6875</td>\n",
       "      <td>1.495080</td>\n",
       "    </tr>\n",
       "    <tr>\n",
       "      <th>2024-01-13 12:36</th>\n",
       "      <td>8.22453</td>\n",
       "      <td>32.8750</td>\n",
       "      <td>1.445560</td>\n",
       "    </tr>\n",
       "    <tr>\n",
       "      <th>2024-01-13 12:51</th>\n",
       "      <td>7.27282</td>\n",
       "      <td>33.0625</td>\n",
       "      <td>1.480620</td>\n",
       "    </tr>\n",
       "    <tr>\n",
       "      <th>2024-01-13 13:06</th>\n",
       "      <td>8.00863</td>\n",
       "      <td>33.3750</td>\n",
       "      <td>1.431320</td>\n",
       "    </tr>\n",
       "    <tr>\n",
       "      <th>2024-01-13 13:21</th>\n",
       "      <td>7.93896</td>\n",
       "      <td>33.5000</td>\n",
       "      <td>1.474310</td>\n",
       "    </tr>\n",
       "    <tr>\n",
       "      <th>2024-01-13 13:36</th>\n",
       "      <td>6.93206</td>\n",
       "      <td>33.6250</td>\n",
       "      <td>1.410500</td>\n",
       "    </tr>\n",
       "    <tr>\n",
       "      <th>2024-01-13 13:52</th>\n",
       "      <td>6.21626</td>\n",
       "      <td>33.7500</td>\n",
       "      <td>1.500650</td>\n",
       "    </tr>\n",
       "    <tr>\n",
       "      <th>2024-01-13 14:07</th>\n",
       "      <td>6.23902</td>\n",
       "      <td>33.6250</td>\n",
       "      <td>1.466420</td>\n",
       "    </tr>\n",
       "    <tr>\n",
       "      <th>2024-01-13 14:22</th>\n",
       "      <td>7.09416</td>\n",
       "      <td>33.5625</td>\n",
       "      <td>1.455851</td>\n",
       "    </tr>\n",
       "  </tbody>\n",
       "</table>\n",
       "</div>"
      ],
      "text/plain": [
       "                       ph     suhu       tds\n",
       "2024-01-09 14:01  6.15636  30.5000  1.533500\n",
       "2024-01-09 14:16  7.20735  31.8125  1.645600\n",
       "2024-01-09 14:31  6.16948  31.7500  1.671020\n",
       "2024-01-09 14:46  6.53777  31.7500  1.681860\n",
       "2024-01-09 15:02  7.88636  31.8125  1.661650\n",
       "2024-01-09 15:17  6.99847  31.9375  1.665520\n",
       "2024-01-09 15:32  7.21207  31.8125  1.665950\n",
       "2024-01-09 15:47  8.07555  31.8750  1.690130\n",
       "2024-01-09 16:02  6.52076  31.8125  1.689800\n",
       "2024-01-12 12:10  7.23724  32.5625  1.567640\n",
       "2024-01-12 12:25  6.88364  32.6875  1.603130\n",
       "2024-01-12 12:40  5.75768  32.8750  1.598970\n",
       "2024-01-12 12:55  6.16645  32.9375  1.556490\n",
       "2024-01-12 13:10  5.48843  33.0625  1.578440\n",
       "2024-01-12 13:26  7.47619  33.2500  1.522400\n",
       "2024-01-12 13:41  6.38694  33.3750  1.578130\n",
       "2024-01-12 13:56  5.61907  33.4375  1.567300\n",
       "2024-01-12 14:01  6.54677  33.5000  1.554540\n",
       "2024-01-12 16:42  7.55913  33.0625  1.509410\n",
       "2024-01-12 16:57  6.86492  33.0000  1.510944\n",
       "2024-01-12 17:12  6.57654  32.9375  1.501270\n",
       "2024-01-13 11:35  5.90072  32.3750  1.509160\n",
       "2024-01-13 11:50  5.39292  31.5625  1.493550\n",
       "2024-01-13 12:05  5.92861  32.5000  1.473970\n",
       "2024-01-13 12:21  8.03553  32.6875  1.495080\n",
       "2024-01-13 12:36  8.22453  32.8750  1.445560\n",
       "2024-01-13 12:51  7.27282  33.0625  1.480620\n",
       "2024-01-13 13:06  8.00863  33.3750  1.431320\n",
       "2024-01-13 13:21  7.93896  33.5000  1.474310\n",
       "2024-01-13 13:36  6.93206  33.6250  1.410500\n",
       "2024-01-13 13:52  6.21626  33.7500  1.500650\n",
       "2024-01-13 14:07  6.23902  33.6250  1.466420\n",
       "2024-01-13 14:22  7.09416  33.5625  1.455851"
      ]
     },
     "execution_count": 6,
     "metadata": {},
     "output_type": "execute_result"
    }
   ],
   "source": [
    "df"
   ]
  },
  {
   "cell_type": "code",
   "execution_count": 7,
   "metadata": {},
   "outputs": [
    {
     "data": {
      "text/html": [
       "<div>\n",
       "<style scoped>\n",
       "    .dataframe tbody tr th:only-of-type {\n",
       "        vertical-align: middle;\n",
       "    }\n",
       "\n",
       "    .dataframe tbody tr th {\n",
       "        vertical-align: top;\n",
       "    }\n",
       "\n",
       "    .dataframe thead th {\n",
       "        text-align: right;\n",
       "    }\n",
       "</style>\n",
       "<table border=\"1\" class=\"dataframe\">\n",
       "  <thead>\n",
       "    <tr style=\"text-align: right;\">\n",
       "      <th></th>\n",
       "      <th>ph</th>\n",
       "      <th>suhu</th>\n",
       "      <th>tds</th>\n",
       "    </tr>\n",
       "  </thead>\n",
       "  <tbody>\n",
       "    <tr>\n",
       "      <th>count</th>\n",
       "      <td>33.000000</td>\n",
       "      <td>33.000000</td>\n",
       "      <td>33.000000</td>\n",
       "    </tr>\n",
       "    <tr>\n",
       "      <th>mean</th>\n",
       "      <td>6.803375</td>\n",
       "      <td>32.674242</td>\n",
       "      <td>1.551233</td>\n",
       "    </tr>\n",
       "    <tr>\n",
       "      <th>std</th>\n",
       "      <td>0.812182</td>\n",
       "      <td>0.785575</td>\n",
       "      <td>0.083022</td>\n",
       "    </tr>\n",
       "    <tr>\n",
       "      <th>min</th>\n",
       "      <td>5.392920</td>\n",
       "      <td>30.500000</td>\n",
       "      <td>1.410500</td>\n",
       "    </tr>\n",
       "    <tr>\n",
       "      <th>25%</th>\n",
       "      <td>6.169480</td>\n",
       "      <td>31.875000</td>\n",
       "      <td>1.493550</td>\n",
       "    </tr>\n",
       "    <tr>\n",
       "      <th>50%</th>\n",
       "      <td>6.864920</td>\n",
       "      <td>32.875000</td>\n",
       "      <td>1.533500</td>\n",
       "    </tr>\n",
       "    <tr>\n",
       "      <th>75%</th>\n",
       "      <td>7.272820</td>\n",
       "      <td>33.375000</td>\n",
       "      <td>1.603130</td>\n",
       "    </tr>\n",
       "    <tr>\n",
       "      <th>max</th>\n",
       "      <td>8.224530</td>\n",
       "      <td>33.750000</td>\n",
       "      <td>1.690130</td>\n",
       "    </tr>\n",
       "  </tbody>\n",
       "</table>\n",
       "</div>"
      ],
      "text/plain": [
       "              ph       suhu        tds\n",
       "count  33.000000  33.000000  33.000000\n",
       "mean    6.803375  32.674242   1.551233\n",
       "std     0.812182   0.785575   0.083022\n",
       "min     5.392920  30.500000   1.410500\n",
       "25%     6.169480  31.875000   1.493550\n",
       "50%     6.864920  32.875000   1.533500\n",
       "75%     7.272820  33.375000   1.603130\n",
       "max     8.224530  33.750000   1.690130"
      ]
     },
     "execution_count": 7,
     "metadata": {},
     "output_type": "execute_result"
    }
   ],
   "source": [
    "df.describe()"
   ]
  },
  {
   "cell_type": "code",
   "execution_count": 8,
   "metadata": {},
   "outputs": [
    {
     "data": {
      "text/plain": [
       "ph      0\n",
       "suhu    0\n",
       "tds     0\n",
       "dtype: int64"
      ]
     },
     "execution_count": 8,
     "metadata": {},
     "output_type": "execute_result"
    }
   ],
   "source": [
    "df.isnull().sum()"
   ]
  },
  {
   "cell_type": "code",
   "execution_count": 9,
   "metadata": {},
   "outputs": [],
   "source": [
    "df=df.dropna()"
   ]
  },
  {
   "cell_type": "code",
   "execution_count": 10,
   "metadata": {},
   "outputs": [
    {
     "name": "stdout",
     "output_type": "stream",
     "text": [
      "<class 'pandas.core.frame.DataFrame'>\n",
      "Index: 33 entries, 2024-01-09 14:01 to 2024-01-13 14:22\n",
      "Data columns (total 3 columns):\n",
      " #   Column  Non-Null Count  Dtype  \n",
      "---  ------  --------------  -----  \n",
      " 0   ph      33 non-null     float64\n",
      " 1   suhu    33 non-null     float64\n",
      " 2   tds     33 non-null     float64\n",
      "dtypes: float64(3)\n",
      "memory usage: 1.0+ KB\n"
     ]
    }
   ],
   "source": [
    "df.info()"
   ]
  },
  {
   "cell_type": "code",
   "execution_count": null,
   "metadata": {},
   "outputs": [],
   "source": [
    "from scipy.stats import norm, ks_1samp\n",
    "\n",
    "columns_to_test = ['ph', 'suhu', 'tds']\n",
    "\n",
    "for column_name in columns_to_test:\n",
    "    data = df[column_name].values\n",
    "    mean = np.mean(data)\n",
    "    stddev = np.std(data)\n",
    "\n",
    "    normalized_data = (data - mean) / stddev\n",
    "\n",
    "    ks_statistic, p_value = ks_1samp(normalized_data, norm.cdf, args=(mean, stddev))\n",
    "\n",
    "    if p_value > 0.05:\n",
    "        print(f\"The data in column '{column_name}' may come from a normal distribution (p-value = {p_value:.3f}).\")\n",
    "    else:\n",
    "        print(f\"The data in column '{column_name}' does not appear to come from a normal distribution (p-value = {p_value:.3f}).\")"
   ]
  },
  {
   "cell_type": "code",
   "execution_count": 11,
   "metadata": {},
   "outputs": [
    {
     "data": {
      "text/plain": [
       "<AxesSubplot:>"
      ]
     },
     "execution_count": 11,
     "metadata": {},
     "output_type": "execute_result"
    },
    {
     "data": {
      "image/png": "[encoded data removed]",
      "text/plain": [
       "<Figure size 720x576 with 2 Axes>"
      ]
     },
     "metadata": {
      "needs_background": "light"
     },
     "output_type": "display_data"
    }
   ],
   "source": [
    "plt.rcParams['font.size'] = 15\n",
    "plt.figure(figsize=(10,8))\n",
    "sns.heatmap(df.corr(),annot=True)"
   ]
  },
  {
   "cell_type": "markdown",
   "metadata": {},
   "source": [
    "### Labeling Data"
   ]
  },
  {
   "cell_type": "code",
   "execution_count": 13,
   "metadata": {},
   "outputs": [],
   "source": [
    "def LabelStatus (df):\n",
    "    def label_ph(ph):\n",
    "        if 7.50 <= ph <= 8.50:\n",
    "            return 'Sesuai'\n",
    "        elif 7.00 <= ph <7.50 or 8.50 < ph <= 9.00:\n",
    "            return 'Waspada'\n",
    "        elif 0 <= ph <7.00 or 9.00 < ph <= 14.00:\n",
    "            return 'Buruk'\n",
    "        else:\n",
    "            return 'Eror'\n",
    "\n",
    "    def label_suhu(suhu):\n",
    "        if suhu >= 27.00:\n",
    "            return 'Sesuai'\n",
    "        elif 25.50 <= suhu < 27.00:\n",
    "            return 'Waspada'\n",
    "        else:\n",
    "            return 'Buruk'\n",
    "    \n",
    "    def label_tds(tds):\n",
    "        if 0.15<= tds <= 0.20:\n",
    "            return 'Sesuai'\n",
    "        elif 0.10 <= tds < 0.15 or 0.20 < tds <= 0.25:\n",
    "            return 'Waspada'\n",
    "        elif 0 <= tds < 0.10 or tds > 0.25:\n",
    "            return 'Buruk'\n",
    "        else:\n",
    "            return 'Eror'\n",
    "        \n",
    "    df['status_ph'] = df['ph'].apply(label_ph)\n",
    "    df['status_suhu'] = df['suhu'].apply(label_suhu)\n",
    "    df['status_tds'] = df['tds'].apply(label_tds)\n",
    "    return df"
   ]
  },
  {
   "cell_type": "code",
   "execution_count": 14,
   "metadata": {},
   "outputs": [
    {
     "data": {
      "text/html": [
       "<div>\n",
       "<style scoped>\n",
       "    .dataframe tbody tr th:only-of-type {\n",
       "        vertical-align: middle;\n",
       "    }\n",
       "\n",
       "    .dataframe tbody tr th {\n",
       "        vertical-align: top;\n",
       "    }\n",
       "\n",
       "    .dataframe thead th {\n",
       "        text-align: right;\n",
       "    }\n",
       "</style>\n",
       "<table border=\"1\" class=\"dataframe\">\n",
       "  <thead>\n",
       "    <tr style=\"text-align: right;\">\n",
       "      <th></th>\n",
       "      <th>ph</th>\n",
       "      <th>suhu</th>\n",
       "      <th>tds</th>\n",
       "      <th>status_ph</th>\n",
       "      <th>status_suhu</th>\n",
       "      <th>status_tds</th>\n",
       "    </tr>\n",
       "  </thead>\n",
       "  <tbody>\n",
       "    <tr>\n",
       "      <th>2024-01-09 14:01</th>\n",
       "      <td>6.15636</td>\n",
       "      <td>30.5000</td>\n",
       "      <td>1.533500</td>\n",
       "      <td>Buruk</td>\n",
       "      <td>Sesuai</td>\n",
       "      <td>Buruk</td>\n",
       "    </tr>\n",
       "    <tr>\n",
       "      <th>2024-01-09 14:16</th>\n",
       "      <td>7.20735</td>\n",
       "      <td>31.8125</td>\n",
       "      <td>1.645600</td>\n",
       "      <td>Waspada</td>\n",
       "      <td>Sesuai</td>\n",
       "      <td>Buruk</td>\n",
       "    </tr>\n",
       "    <tr>\n",
       "      <th>2024-01-09 14:31</th>\n",
       "      <td>6.16948</td>\n",
       "      <td>31.7500</td>\n",
       "      <td>1.671020</td>\n",
       "      <td>Buruk</td>\n",
       "      <td>Sesuai</td>\n",
       "      <td>Buruk</td>\n",
       "    </tr>\n",
       "    <tr>\n",
       "      <th>2024-01-09 14:46</th>\n",
       "      <td>6.53777</td>\n",
       "      <td>31.7500</td>\n",
       "      <td>1.681860</td>\n",
       "      <td>Buruk</td>\n",
       "      <td>Sesuai</td>\n",
       "      <td>Buruk</td>\n",
       "    </tr>\n",
       "    <tr>\n",
       "      <th>2024-01-09 15:02</th>\n",
       "      <td>7.88636</td>\n",
       "      <td>31.8125</td>\n",
       "      <td>1.661650</td>\n",
       "      <td>Sesuai</td>\n",
       "      <td>Sesuai</td>\n",
       "      <td>Buruk</td>\n",
       "    </tr>\n",
       "    <tr>\n",
       "      <th>2024-01-09 15:17</th>\n",
       "      <td>6.99847</td>\n",
       "      <td>31.9375</td>\n",
       "      <td>1.665520</td>\n",
       "      <td>Buruk</td>\n",
       "      <td>Sesuai</td>\n",
       "      <td>Buruk</td>\n",
       "    </tr>\n",
       "    <tr>\n",
       "      <th>2024-01-09 15:32</th>\n",
       "      <td>7.21207</td>\n",
       "      <td>31.8125</td>\n",
       "      <td>1.665950</td>\n",
       "      <td>Waspada</td>\n",
       "      <td>Sesuai</td>\n",
       "      <td>Buruk</td>\n",
       "    </tr>\n",
       "    <tr>\n",
       "      <th>2024-01-09 15:47</th>\n",
       "      <td>8.07555</td>\n",
       "      <td>31.8750</td>\n",
       "      <td>1.690130</td>\n",
       "      <td>Sesuai</td>\n",
       "      <td>Sesuai</td>\n",
       "      <td>Buruk</td>\n",
       "    </tr>\n",
       "    <tr>\n",
       "      <th>2024-01-09 16:02</th>\n",
       "      <td>6.52076</td>\n",
       "      <td>31.8125</td>\n",
       "      <td>1.689800</td>\n",
       "      <td>Buruk</td>\n",
       "      <td>Sesuai</td>\n",
       "      <td>Buruk</td>\n",
       "    </tr>\n",
       "    <tr>\n",
       "      <th>2024-01-12 12:10</th>\n",
       "      <td>7.23724</td>\n",
       "      <td>32.5625</td>\n",
       "      <td>1.567640</td>\n",
       "      <td>Waspada</td>\n",
       "      <td>Sesuai</td>\n",
       "      <td>Buruk</td>\n",
       "    </tr>\n",
       "    <tr>\n",
       "      <th>2024-01-12 12:25</th>\n",
       "      <td>6.88364</td>\n",
       "      <td>32.6875</td>\n",
       "      <td>1.603130</td>\n",
       "      <td>Buruk</td>\n",
       "      <td>Sesuai</td>\n",
       "      <td>Buruk</td>\n",
       "    </tr>\n",
       "    <tr>\n",
       "      <th>2024-01-12 12:40</th>\n",
       "      <td>5.75768</td>\n",
       "      <td>32.8750</td>\n",
       "      <td>1.598970</td>\n",
       "      <td>Buruk</td>\n",
       "      <td>Sesuai</td>\n",
       "      <td>Buruk</td>\n",
       "    </tr>\n",
       "    <tr>\n",
       "      <th>2024-01-12 12:55</th>\n",
       "      <td>6.16645</td>\n",
       "      <td>32.9375</td>\n",
       "      <td>1.556490</td>\n",
       "      <td>Buruk</td>\n",
       "      <td>Sesuai</td>\n",
       "      <td>Buruk</td>\n",
       "    </tr>\n",
       "    <tr>\n",
       "      <th>2024-01-12 13:10</th>\n",
       "      <td>5.48843</td>\n",
       "      <td>33.0625</td>\n",
       "      <td>1.578440</td>\n",
       "      <td>Buruk</td>\n",
       "      <td>Sesuai</td>\n",
       "      <td>Buruk</td>\n",
       "    </tr>\n",
       "    <tr>\n",
       "      <th>2024-01-12 13:26</th>\n",
       "      <td>7.47619</td>\n",
       "      <td>33.2500</td>\n",
       "      <td>1.522400</td>\n",
       "      <td>Waspada</td>\n",
       "      <td>Sesuai</td>\n",
       "      <td>Buruk</td>\n",
       "    </tr>\n",
       "    <tr>\n",
       "      <th>2024-01-12 13:41</th>\n",
       "      <td>6.38694</td>\n",
       "      <td>33.3750</td>\n",
       "      <td>1.578130</td>\n",
       "      <td>Buruk</td>\n",
       "      <td>Sesuai</td>\n",
       "      <td>Buruk</td>\n",
       "    </tr>\n",
       "    <tr>\n",
       "      <th>2024-01-12 13:56</th>\n",
       "      <td>5.61907</td>\n",
       "      <td>33.4375</td>\n",
       "      <td>1.567300</td>\n",
       "      <td>Buruk</td>\n",
       "      <td>Sesuai</td>\n",
       "      <td>Buruk</td>\n",
       "    </tr>\n",
       "    <tr>\n",
       "      <th>2024-01-12 14:01</th>\n",
       "      <td>6.54677</td>\n",
       "      <td>33.5000</td>\n",
       "      <td>1.554540</td>\n",
       "      <td>Buruk</td>\n",
       "      <td>Sesuai</td>\n",
       "      <td>Buruk</td>\n",
       "    </tr>\n",
       "    <tr>\n",
       "      <th>2024-01-12 16:42</th>\n",
       "      <td>7.55913</td>\n",
       "      <td>33.0625</td>\n",
       "      <td>1.509410</td>\n",
       "      <td>Sesuai</td>\n",
       "      <td>Sesuai</td>\n",
       "      <td>Buruk</td>\n",
       "    </tr>\n",
       "    <tr>\n",
       "      <th>2024-01-12 16:57</th>\n",
       "      <td>6.86492</td>\n",
       "      <td>33.0000</td>\n",
       "      <td>1.510944</td>\n",
       "      <td>Buruk</td>\n",
       "      <td>Sesuai</td>\n",
       "      <td>Buruk</td>\n",
       "    </tr>\n",
       "    <tr>\n",
       "      <th>2024-01-12 17:12</th>\n",
       "      <td>6.57654</td>\n",
       "      <td>32.9375</td>\n",
       "      <td>1.501270</td>\n",
       "      <td>Buruk</td>\n",
       "      <td>Sesuai</td>\n",
       "      <td>Buruk</td>\n",
       "    </tr>\n",
       "    <tr>\n",
       "      <th>2024-01-13 11:35</th>\n",
       "      <td>5.90072</td>\n",
       "      <td>32.3750</td>\n",
       "      <td>1.509160</td>\n",
       "      <td>Buruk</td>\n",
       "      <td>Sesuai</td>\n",
       "      <td>Buruk</td>\n",
       "    </tr>\n",
       "    <tr>\n",
       "      <th>2024-01-13 11:50</th>\n",
       "      <td>5.39292</td>\n",
       "      <td>31.5625</td>\n",
       "      <td>1.493550</td>\n",
       "      <td>Buruk</td>\n",
       "      <td>Sesuai</td>\n",
       "      <td>Buruk</td>\n",
       "    </tr>\n",
       "    <tr>\n",
       "      <th>2024-01-13 12:05</th>\n",
       "      <td>5.92861</td>\n",
       "      <td>32.5000</td>\n",
       "      <td>1.473970</td>\n",
       "      <td>Buruk</td>\n",
       "      <td>Sesuai</td>\n",
       "      <td>Buruk</td>\n",
       "    </tr>\n",
       "    <tr>\n",
       "      <th>2024-01-13 12:21</th>\n",
       "      <td>8.03553</td>\n",
       "      <td>32.6875</td>\n",
       "      <td>1.495080</td>\n",
       "      <td>Sesuai</td>\n",
       "      <td>Sesuai</td>\n",
       "      <td>Buruk</td>\n",
       "    </tr>\n",
       "    <tr>\n",
       "      <th>2024-01-13 12:36</th>\n",
       "      <td>8.22453</td>\n",
       "      <td>32.8750</td>\n",
       "      <td>1.445560</td>\n",
       "      <td>Sesuai</td>\n",
       "      <td>Sesuai</td>\n",
       "      <td>Buruk</td>\n",
       "    </tr>\n",
       "    <tr>\n",
       "      <th>2024-01-13 12:51</th>\n",
       "      <td>7.27282</td>\n",
       "      <td>33.0625</td>\n",
       "      <td>1.480620</td>\n",
       "      <td>Waspada</td>\n",
       "      <td>Sesuai</td>\n",
       "      <td>Buruk</td>\n",
       "    </tr>\n",
       "    <tr>\n",
       "      <th>2024-01-13 13:06</th>\n",
       "      <td>8.00863</td>\n",
       "      <td>33.3750</td>\n",
       "      <td>1.431320</td>\n",
       "      <td>Sesuai</td>\n",
       "      <td>Sesuai</td>\n",
       "      <td>Buruk</td>\n",
       "    </tr>\n",
       "    <tr>\n",
       "      <th>2024-01-13 13:21</th>\n",
       "      <td>7.93896</td>\n",
       "      <td>33.5000</td>\n",
       "      <td>1.474310</td>\n",
       "      <td>Sesuai</td>\n",
       "      <td>Sesuai</td>\n",
       "      <td>Buruk</td>\n",
       "    </tr>\n",
       "    <tr>\n",
       "      <th>2024-01-13 13:36</th>\n",
       "      <td>6.93206</td>\n",
       "      <td>33.6250</td>\n",
       "      <td>1.410500</td>\n",
       "      <td>Buruk</td>\n",
       "      <td>Sesuai</td>\n",
       "      <td>Buruk</td>\n",
       "    </tr>\n",
       "    <tr>\n",
       "      <th>2024-01-13 13:52</th>\n",
       "      <td>6.21626</td>\n",
       "      <td>33.7500</td>\n",
       "      <td>1.500650</td>\n",
       "      <td>Buruk</td>\n",
       "      <td>Sesuai</td>\n",
       "      <td>Buruk</td>\n",
       "    </tr>\n",
       "    <tr>\n",
       "      <th>2024-01-13 14:07</th>\n",
       "      <td>6.23902</td>\n",
       "      <td>33.6250</td>\n",
       "      <td>1.466420</td>\n",
       "      <td>Buruk</td>\n",
       "      <td>Sesuai</td>\n",
       "      <td>Buruk</td>\n",
       "    </tr>\n",
       "    <tr>\n",
       "      <th>2024-01-13 14:22</th>\n",
       "      <td>7.09416</td>\n",
       "      <td>33.5625</td>\n",
       "      <td>1.455851</td>\n",
       "      <td>Waspada</td>\n",
       "      <td>Sesuai</td>\n",
       "      <td>Buruk</td>\n",
       "    </tr>\n",
       "  </tbody>\n",
       "</table>\n",
       "</div>"
      ],
      "text/plain": [
       "                       ph     suhu       tds status_ph status_suhu status_tds\n",
       "2024-01-09 14:01  6.15636  30.5000  1.533500     Buruk      Sesuai      Buruk\n",
       "2024-01-09 14:16  7.20735  31.8125  1.645600   Waspada      Sesuai      Buruk\n",
       "2024-01-09 14:31  6.16948  31.7500  1.671020     Buruk      Sesuai      Buruk\n",
       "2024-01-09 14:46  6.53777  31.7500  1.681860     Buruk      Sesuai      Buruk\n",
       "2024-01-09 15:02  7.88636  31.8125  1.661650    Sesuai      Sesuai      Buruk\n",
       "2024-01-09 15:17  6.99847  31.9375  1.665520     Buruk      Sesuai      Buruk\n",
       "2024-01-09 15:32  7.21207  31.8125  1.665950   Waspada      Sesuai      Buruk\n",
       "2024-01-09 15:47  8.07555  31.8750  1.690130    Sesuai      Sesuai      Buruk\n",
       "2024-01-09 16:02  6.52076  31.8125  1.689800     Buruk      Sesuai      Buruk\n",
       "2024-01-12 12:10  7.23724  32.5625  1.567640   Waspada      Sesuai      Buruk\n",
       "2024-01-12 12:25  6.88364  32.6875  1.603130     Buruk      Sesuai      Buruk\n",
       "2024-01-12 12:40  5.75768  32.8750  1.598970     Buruk      Sesuai      Buruk\n",
       "2024-01-12 12:55  6.16645  32.9375  1.556490     Buruk      Sesuai      Buruk\n",
       "2024-01-12 13:10  5.48843  33.0625  1.578440     Buruk      Sesuai      Buruk\n",
       "2024-01-12 13:26  7.47619  33.2500  1.522400   Waspada      Sesuai      Buruk\n",
       "2024-01-12 13:41  6.38694  33.3750  1.578130     Buruk      Sesuai      Buruk\n",
       "2024-01-12 13:56  5.61907  33.4375  1.567300     Buruk      Sesuai      Buruk\n",
       "2024-01-12 14:01  6.54677  33.5000  1.554540     Buruk      Sesuai      Buruk\n",
       "2024-01-12 16:42  7.55913  33.0625  1.509410    Sesuai      Sesuai      Buruk\n",
       "2024-01-12 16:57  6.86492  33.0000  1.510944     Buruk      Sesuai      Buruk\n",
       "2024-01-12 17:12  6.57654  32.9375  1.501270     Buruk      Sesuai      Buruk\n",
       "2024-01-13 11:35  5.90072  32.3750  1.509160     Buruk      Sesuai      Buruk\n",
       "2024-01-13 11:50  5.39292  31.5625  1.493550     Buruk      Sesuai      Buruk\n",
       "2024-01-13 12:05  5.92861  32.5000  1.473970     Buruk      Sesuai      Buruk\n",
       "2024-01-13 12:21  8.03553  32.6875  1.495080    Sesuai      Sesuai      Buruk\n",
       "2024-01-13 12:36  8.22453  32.8750  1.445560    Sesuai      Sesuai      Buruk\n",
       "2024-01-13 12:51  7.27282  33.0625  1.480620   Waspada      Sesuai      Buruk\n",
       "2024-01-13 13:06  8.00863  33.3750  1.431320    Sesuai      Sesuai      Buruk\n",
       "2024-01-13 13:21  7.93896  33.5000  1.474310    Sesuai      Sesuai      Buruk\n",
       "2024-01-13 13:36  6.93206  33.6250  1.410500     Buruk      Sesuai      Buruk\n",
       "2024-01-13 13:52  6.21626  33.7500  1.500650     Buruk      Sesuai      Buruk\n",
       "2024-01-13 14:07  6.23902  33.6250  1.466420     Buruk      Sesuai      Buruk\n",
       "2024-01-13 14:22  7.09416  33.5625  1.455851   Waspada      Sesuai      Buruk"
      ]
     },
     "execution_count": 14,
     "metadata": {},
     "output_type": "execute_result"
    }
   ],
   "source": [
    "df = LabelStatus(df)\n",
    "df"
   ]
  },
  {
   "cell_type": "markdown",
   "metadata": {},
   "source": [
    "### Visualisasi Data"
   ]
  },
  {
   "cell_type": "code",
   "execution_count": 15,
   "metadata": {},
   "outputs": [
    {
     "data": {
      "text/plain": [
       "Text(0, 0.5, 'pH value')"
      ]
     },
     "execution_count": 15,
     "metadata": {},
     "output_type": "execute_result"
    },
    {
     "data": {
      "image/png": "[encoded data removed]",
      "text/plain": [
       "<Figure size 936x432 with 1 Axes>"
      ]
     },
     "metadata": {
      "needs_background": "light"
     },
     "output_type": "display_data"
    }
   ],
   "source": [
    "fig, ax = plt.subplots(figsize=(13, 6))\n",
    "ax.plot(df.index, df['ph'], marker='o', linestyle='-', color='orange',linewidth=2.5)\n",
    "\n",
    "ax.grid(True, linestyle='--', alpha=0.85)\n",
    "ax.yaxis.set_major_locator(ticker.MultipleLocator(1))\n",
    "ax.set_ylim(bottom=0,top=14)\n",
    "for i, txt in enumerate(df['ph']):\n",
    "    bbox_props = dict(boxstyle=\"square,pad=0.3\", fc=\"white\", ec=\"none\", alpha=1)\n",
    "    ax.annotate(f'{txt:.2f}', (df.index[i], txt), textcoords=\"offset points\", xytext=(0,10), ha='center', bbox=bbox_props,fontsize=12)\n",
    "\n",
    "plt.axhspan(7.5,8.5, facecolor='limegreen', alpha=0.50)\n",
    "plt.axhspan(7,7.5, facecolor='palegoldenrod', alpha=0.30)\n",
    "plt.axhspan(8.5,9, facecolor='palegoldenrod', alpha=0.30)\n",
    "\n",
    "plt.title('pH',fontsize=14, weight='bold')\n",
    "plt.xlabel('timestamp',fontsize=14)\n",
    "plt.xticks(rotation=90)\n",
    "plt.ylabel('pH value',fontsize=14)"
   ]
  },
  {
   "cell_type": "code",
   "execution_count": 16,
   "metadata": {},
   "outputs": [
    {
     "data": {
      "text/plain": [
       "Text(0, 0.5, 'temperature value (°C)')"
      ]
     },
     "execution_count": 16,
     "metadata": {},
     "output_type": "execute_result"
    },
    {
     "data": {
      "image/png": "[encoded data removed]",
      "text/plain": [
       "<Figure size 936x432 with 1 Axes>"
      ]
     },
     "metadata": {
      "needs_background": "light"
     },
     "output_type": "display_data"
    }
   ],
   "source": [
    "fig, ax = plt.subplots(figsize=(13, 6))\n",
    "ax.plot(df.index, df['suhu'], marker='o', linestyle='-', color='midnightblue',linewidth=2.5)\n",
    "\n",
    "ax.yaxis.set_major_locator(ticker.MultipleLocator(1))\n",
    "ax.set_ylim(bottom=24, top=(df['suhu'].max())+1)\n",
    "ax.grid(True, linestyle='--', alpha=0.85)\n",
    "for i, txt in enumerate(df['suhu']):\n",
    "    bbox_props = dict(boxstyle=\"square,pad=0.3\", fc=\"white\", ec=\"none\", alpha=1)\n",
    "    ax.annotate(f'{txt:.2f}', (df.index[i], txt), textcoords=\"offset points\", xytext=(0,10), ha='center', bbox=bbox_props,fontsize=12)\n",
    "\n",
    "plt.axhspan(27, (df['suhu'].max())+1, facecolor='limegreen', alpha=0.50)\n",
    "plt.axhspan(25,27, facecolor='palegoldenrod', alpha=0.30)\n",
    "\n",
    "\n",
    "plt.title('Temperature',fontsize=14, weight='bold')\n",
    "plt.xlabel('timestamp',fontsize=14)\n",
    "plt.xticks(rotation=90)\n",
    "plt.ylabel('temperature value (°C)',fontsize=14)"
   ]
  },
  {
   "cell_type": "code",
   "execution_count": 17,
   "metadata": {},
   "outputs": [
    {
     "data": {
      "text/plain": [
       "Text(0, 0.5, 'tds value (ppt)')"
      ]
     },
     "execution_count": 17,
     "metadata": {},
     "output_type": "execute_result"
    },
    {
     "data": {
      "image/png": "[encoded data removed]",
      "text/plain": [
       "<Figure size 936x432 with 1 Axes>"
      ]
     },
     "metadata": {
      "needs_background": "light"
     },
     "output_type": "display_data"
    }
   ],
   "source": [
    "fig, ax = plt.subplots(figsize=(13, 6))\n",
    "ax.plot(df.index, df['tds'], marker='o', linestyle='-', color='crimson',linewidth=2.5)\n",
    "\n",
    "ax.grid(True, linestyle='--', alpha=0.85)\n",
    "ax.yaxis.set_major_locator(ticker.MultipleLocator(0.2))\n",
    "ax.set_ylim( bottom = 0, top=2)\n",
    "\n",
    "for i, txt in enumerate(df['tds']):\n",
    "    bbox_props = dict(boxstyle=\"square,pad=0.3\", fc=\"white\", ec=\"none\", alpha=1)\n",
    "    ax.annotate(f'{txt:.2f}', (df.index[i], txt), textcoords=\"offset points\", xytext=(0,10), ha='center', bbox=bbox_props,fontsize=12)\n",
    "\n",
    "plt.axhspan(0.15,0.20, facecolor='limegreen', alpha=0.50)\n",
    "plt.axhspan(0.10,0.15, facecolor='palegoldenrod', alpha=0.30)\n",
    "plt.axhspan(0.20,0.25, facecolor='palegoldenrod', alpha=0.30)\n",
    "\n",
    "\n",
    "plt.title('TDS',fontsize=14, weight='bold')\n",
    "plt.xlabel('timestamp',fontsize=14)\n",
    "plt.xticks(rotation=90)\n",
    "plt.ylabel('tds value (ppt)',fontsize=14)"
   ]
  },
  {
   "cell_type": "code",
   "execution_count": 18,
   "metadata": {},
   "outputs": [],
   "source": [
    "def barplot_cek(dataframe, column):\n",
    "    # Pengaturan warna sesuai dengan kategori\n",
    "    colorpalette = {'Sesuai': 'seagreen', 'Waspada': 'sandybrown', 'Buruk': 'firebrick', 'Eror': 'dimgray'}\n",
    "    #pengaturan urutan\n",
    "    order = [\"Sesuai\", \"Waspada\", \"Buruk\",\"Eror\"]\n",
    "    #pembuatan barplot\n",
    "    plt.figure(figsize=(10,8))\n",
    "    ax = sns.countplot(data=dataframe, x=column, palette=colorpalette, order=order)\n",
    "    plt.title(f'Jumlah Data {column}',fontsize=14, weight='bold')\n",
    "    plt.xlabel(column, fontsize=13)\n",
    "    plt.ylabel('Jumlah Data',fontsize=13)\n",
    "\n",
    "    for p in ax.patches:\n",
    "        ax.annotate(f'{p.get_height()}', (p.get_x() + p.get_width() / 2., p.get_height()), ha='center', va='baseline',fontsize=14,)\n",
    "\n",
    "    plt.show()"
   ]
  },
  {
   "cell_type": "code",
   "execution_count": 19,
   "metadata": {},
   "outputs": [
    {
     "data": {
      "image/png": "[encoded data removed]",
      "text/plain": [
       "<Figure size 720x576 with 1 Axes>"
      ]
     },
     "metadata": {
      "needs_background": "light"
     },
     "output_type": "display_data"
    },
    {
     "data": {
      "image/png": "[encoded data removed]",
      "text/plain": [
       "<Figure size 720x576 with 1 Axes>"
      ]
     },
     "metadata": {
      "needs_background": "light"
     },
     "output_type": "display_data"
    },
    {
     "data": {
      "image/png": "[encoded data removed]",
      "text/plain": [
       "<Figure size 720x576 with 1 Axes>"
      ]
     },
     "metadata": {
      "needs_background": "light"
     },
     "output_type": "display_data"
    }
   ],
   "source": [
    "barplot_cek(df,'status_ph')\n",
    "barplot_cek(df,'status_suhu')\n",
    "barplot_cek(df,'status_tds')"
   ]
  },
  {
   "cell_type": "markdown",
   "metadata": {},
   "source": [
    "### Mapping Data"
   ]
  },
  {
   "cell_type": "code",
   "execution_count": 20,
   "metadata": {},
   "outputs": [
    {
     "data": {
      "text/html": [
       "<div>\n",
       "<style scoped>\n",
       "    .dataframe tbody tr th:only-of-type {\n",
       "        vertical-align: middle;\n",
       "    }\n",
       "\n",
       "    .dataframe tbody tr th {\n",
       "        vertical-align: top;\n",
       "    }\n",
       "\n",
       "    .dataframe thead th {\n",
       "        text-align: right;\n",
       "    }\n",
       "</style>\n",
       "<table border=\"1\" class=\"dataframe\">\n",
       "  <thead>\n",
       "    <tr style=\"text-align: right;\">\n",
       "      <th></th>\n",
       "      <th>status_ph</th>\n",
       "      <th>status_suhu</th>\n",
       "      <th>status_tds</th>\n",
       "    </tr>\n",
       "  </thead>\n",
       "  <tbody>\n",
       "    <tr>\n",
       "      <th>2024-01-09 14:01</th>\n",
       "      <td>0</td>\n",
       "      <td>2</td>\n",
       "      <td>0</td>\n",
       "    </tr>\n",
       "    <tr>\n",
       "      <th>2024-01-09 14:16</th>\n",
       "      <td>1</td>\n",
       "      <td>2</td>\n",
       "      <td>0</td>\n",
       "    </tr>\n",
       "    <tr>\n",
       "      <th>2024-01-09 14:31</th>\n",
       "      <td>0</td>\n",
       "      <td>2</td>\n",
       "      <td>0</td>\n",
       "    </tr>\n",
       "    <tr>\n",
       "      <th>2024-01-09 14:46</th>\n",
       "      <td>0</td>\n",
       "      <td>2</td>\n",
       "      <td>0</td>\n",
       "    </tr>\n",
       "    <tr>\n",
       "      <th>2024-01-09 15:02</th>\n",
       "      <td>2</td>\n",
       "      <td>2</td>\n",
       "      <td>0</td>\n",
       "    </tr>\n",
       "    <tr>\n",
       "      <th>2024-01-09 15:17</th>\n",
       "      <td>0</td>\n",
       "      <td>2</td>\n",
       "      <td>0</td>\n",
       "    </tr>\n",
       "    <tr>\n",
       "      <th>2024-01-09 15:32</th>\n",
       "      <td>1</td>\n",
       "      <td>2</td>\n",
       "      <td>0</td>\n",
       "    </tr>\n",
       "    <tr>\n",
       "      <th>2024-01-09 15:47</th>\n",
       "      <td>2</td>\n",
       "      <td>2</td>\n",
       "      <td>0</td>\n",
       "    </tr>\n",
       "    <tr>\n",
       "      <th>2024-01-09 16:02</th>\n",
       "      <td>0</td>\n",
       "      <td>2</td>\n",
       "      <td>0</td>\n",
       "    </tr>\n",
       "    <tr>\n",
       "      <th>2024-01-12 12:10</th>\n",
       "      <td>1</td>\n",
       "      <td>2</td>\n",
       "      <td>0</td>\n",
       "    </tr>\n",
       "    <tr>\n",
       "      <th>2024-01-12 12:25</th>\n",
       "      <td>0</td>\n",
       "      <td>2</td>\n",
       "      <td>0</td>\n",
       "    </tr>\n",
       "    <tr>\n",
       "      <th>2024-01-12 12:40</th>\n",
       "      <td>0</td>\n",
       "      <td>2</td>\n",
       "      <td>0</td>\n",
       "    </tr>\n",
       "    <tr>\n",
       "      <th>2024-01-12 12:55</th>\n",
       "      <td>0</td>\n",
       "      <td>2</td>\n",
       "      <td>0</td>\n",
       "    </tr>\n",
       "    <tr>\n",
       "      <th>2024-01-12 13:10</th>\n",
       "      <td>0</td>\n",
       "      <td>2</td>\n",
       "      <td>0</td>\n",
       "    </tr>\n",
       "    <tr>\n",
       "      <th>2024-01-12 13:26</th>\n",
       "      <td>1</td>\n",
       "      <td>2</td>\n",
       "      <td>0</td>\n",
       "    </tr>\n",
       "    <tr>\n",
       "      <th>2024-01-12 13:41</th>\n",
       "      <td>0</td>\n",
       "      <td>2</td>\n",
       "      <td>0</td>\n",
       "    </tr>\n",
       "    <tr>\n",
       "      <th>2024-01-12 13:56</th>\n",
       "      <td>0</td>\n",
       "      <td>2</td>\n",
       "      <td>0</td>\n",
       "    </tr>\n",
       "    <tr>\n",
       "      <th>2024-01-12 14:01</th>\n",
       "      <td>0</td>\n",
       "      <td>2</td>\n",
       "      <td>0</td>\n",
       "    </tr>\n",
       "    <tr>\n",
       "      <th>2024-01-12 16:42</th>\n",
       "      <td>2</td>\n",
       "      <td>2</td>\n",
       "      <td>0</td>\n",
       "    </tr>\n",
       "    <tr>\n",
       "      <th>2024-01-12 16:57</th>\n",
       "      <td>0</td>\n",
       "      <td>2</td>\n",
       "      <td>0</td>\n",
       "    </tr>\n",
       "    <tr>\n",
       "      <th>2024-01-12 17:12</th>\n",
       "      <td>0</td>\n",
       "      <td>2</td>\n",
       "      <td>0</td>\n",
       "    </tr>\n",
       "    <tr>\n",
       "      <th>2024-01-13 11:35</th>\n",
       "      <td>0</td>\n",
       "      <td>2</td>\n",
       "      <td>0</td>\n",
       "    </tr>\n",
       "    <tr>\n",
       "      <th>2024-01-13 11:50</th>\n",
       "      <td>0</td>\n",
       "      <td>2</td>\n",
       "      <td>0</td>\n",
       "    </tr>\n",
       "    <tr>\n",
       "      <th>2024-01-13 12:05</th>\n",
       "      <td>0</td>\n",
       "      <td>2</td>\n",
       "      <td>0</td>\n",
       "    </tr>\n",
       "    <tr>\n",
       "      <th>2024-01-13 12:21</th>\n",
       "      <td>2</td>\n",
       "      <td>2</td>\n",
       "      <td>0</td>\n",
       "    </tr>\n",
       "    <tr>\n",
       "      <th>2024-01-13 12:36</th>\n",
       "      <td>2</td>\n",
       "      <td>2</td>\n",
       "      <td>0</td>\n",
       "    </tr>\n",
       "    <tr>\n",
       "      <th>2024-01-13 12:51</th>\n",
       "      <td>1</td>\n",
       "      <td>2</td>\n",
       "      <td>0</td>\n",
       "    </tr>\n",
       "    <tr>\n",
       "      <th>2024-01-13 13:06</th>\n",
       "      <td>2</td>\n",
       "      <td>2</td>\n",
       "      <td>0</td>\n",
       "    </tr>\n",
       "    <tr>\n",
       "      <th>2024-01-13 13:21</th>\n",
       "      <td>2</td>\n",
       "      <td>2</td>\n",
       "      <td>0</td>\n",
       "    </tr>\n",
       "    <tr>\n",
       "      <th>2024-01-13 13:36</th>\n",
       "      <td>0</td>\n",
       "      <td>2</td>\n",
       "      <td>0</td>\n",
       "    </tr>\n",
       "    <tr>\n",
       "      <th>2024-01-13 13:52</th>\n",
       "      <td>0</td>\n",
       "      <td>2</td>\n",
       "      <td>0</td>\n",
       "    </tr>\n",
       "    <tr>\n",
       "      <th>2024-01-13 14:07</th>\n",
       "      <td>0</td>\n",
       "      <td>2</td>\n",
       "      <td>0</td>\n",
       "    </tr>\n",
       "    <tr>\n",
       "      <th>2024-01-13 14:22</th>\n",
       "      <td>1</td>\n",
       "      <td>2</td>\n",
       "      <td>0</td>\n",
       "    </tr>\n",
       "  </tbody>\n",
       "</table>\n",
       "</div>"
      ],
      "text/plain": [
       "                  status_ph  status_suhu  status_tds\n",
       "2024-01-09 14:01          0            2           0\n",
       "2024-01-09 14:16          1            2           0\n",
       "2024-01-09 14:31          0            2           0\n",
       "2024-01-09 14:46          0            2           0\n",
       "2024-01-09 15:02          2            2           0\n",
       "2024-01-09 15:17          0            2           0\n",
       "2024-01-09 15:32          1            2           0\n",
       "2024-01-09 15:47          2            2           0\n",
       "2024-01-09 16:02          0            2           0\n",
       "2024-01-12 12:10          1            2           0\n",
       "2024-01-12 12:25          0            2           0\n",
       "2024-01-12 12:40          0            2           0\n",
       "2024-01-12 12:55          0            2           0\n",
       "2024-01-12 13:10          0            2           0\n",
       "2024-01-12 13:26          1            2           0\n",
       "2024-01-12 13:41          0            2           0\n",
       "2024-01-12 13:56          0            2           0\n",
       "2024-01-12 14:01          0            2           0\n",
       "2024-01-12 16:42          2            2           0\n",
       "2024-01-12 16:57          0            2           0\n",
       "2024-01-12 17:12          0            2           0\n",
       "2024-01-13 11:35          0            2           0\n",
       "2024-01-13 11:50          0            2           0\n",
       "2024-01-13 12:05          0            2           0\n",
       "2024-01-13 12:21          2            2           0\n",
       "2024-01-13 12:36          2            2           0\n",
       "2024-01-13 12:51          1            2           0\n",
       "2024-01-13 13:06          2            2           0\n",
       "2024-01-13 13:21          2            2           0\n",
       "2024-01-13 13:36          0            2           0\n",
       "2024-01-13 13:52          0            2           0\n",
       "2024-01-13 14:07          0            2           0\n",
       "2024-01-13 14:22          1            2           0"
      ]
     },
     "execution_count": 20,
     "metadata": {},
     "output_type": "execute_result"
    }
   ],
   "source": [
    "df_uji = df.copy()\n",
    "df_uji = df_uji.drop(['ph', 'suhu', 'tds'], axis=1)\n",
    "#kolom yang akan di encoder\n",
    "kolom_map = ['status_ph', 'status_suhu', 'status_tds']\n",
    "\n",
    "label_mapping = {\n",
    "    'status_ph': {'Buruk': 0, 'Waspada': 1, 'Sesuai': 2, 'Eror': 3},\n",
    "    'status_suhu': {'Buruk': 0, 'Waspada': 1, 'Sesuai': 2},\n",
    "    'status_tds': {'Buruk': 0, 'Waspada': 1, 'Sesuai': 2, 'Eror': 3},\n",
    "}\n",
    "\n",
    "for column in kolom_map:\n",
    "    df_uji[column] = df_uji[column].map(label_mapping[column])\n",
    "\n",
    "df_uji"
   ]
  },
  {
   "cell_type": "markdown",
   "metadata": {},
   "source": [
    "### Get Data untuk Training"
   ]
  },
  {
   "cell_type": "code",
   "execution_count": 21,
   "metadata": {},
   "outputs": [
    {
     "data": {
      "text/html": [
       "<div>\n",
       "<style scoped>\n",
       "    .dataframe tbody tr th:only-of-type {\n",
       "        vertical-align: middle;\n",
       "    }\n",
       "\n",
       "    .dataframe tbody tr th {\n",
       "        vertical-align: top;\n",
       "    }\n",
       "\n",
       "    .dataframe thead th {\n",
       "        text-align: right;\n",
       "    }\n",
       "</style>\n",
       "<table border=\"1\" class=\"dataframe\">\n",
       "  <thead>\n",
       "    <tr style=\"text-align: right;\">\n",
       "      <th></th>\n",
       "      <th>ph</th>\n",
       "      <th>suhu</th>\n",
       "      <th>tds</th>\n",
       "    </tr>\n",
       "  </thead>\n",
       "  <tbody>\n",
       "    <tr>\n",
       "      <th>2024-01-19  15:05:53</th>\n",
       "      <td>8.29702</td>\n",
       "      <td>27.8750</td>\n",
       "      <td>1.614070</td>\n",
       "    </tr>\n",
       "    <tr>\n",
       "      <th>2024-01-19  15:07:53</th>\n",
       "      <td>7.95103</td>\n",
       "      <td>27.8125</td>\n",
       "      <td>1.515378</td>\n",
       "    </tr>\n",
       "    <tr>\n",
       "      <th>2024-01-19  15:09:53</th>\n",
       "      <td>8.11156</td>\n",
       "      <td>27.8125</td>\n",
       "      <td>1.509800</td>\n",
       "    </tr>\n",
       "    <tr>\n",
       "      <th>2024-01-19  15:11:53</th>\n",
       "      <td>8.47022</td>\n",
       "      <td>27.7500</td>\n",
       "      <td>1.506790</td>\n",
       "    </tr>\n",
       "    <tr>\n",
       "      <th>2024-01-19  15:13:53</th>\n",
       "      <td>8.20969</td>\n",
       "      <td>27.7500</td>\n",
       "      <td>1.415116</td>\n",
       "    </tr>\n",
       "    <tr>\n",
       "      <th>...</th>\n",
       "      <td>...</td>\n",
       "      <td>...</td>\n",
       "      <td>...</td>\n",
       "    </tr>\n",
       "    <tr>\n",
       "      <th>2024-02-05  21:41:23</th>\n",
       "      <td>7.91738</td>\n",
       "      <td>28.5400</td>\n",
       "      <td>1.444510</td>\n",
       "    </tr>\n",
       "    <tr>\n",
       "      <th>2024-02-05  21:44:23</th>\n",
       "      <td>8.21208</td>\n",
       "      <td>28.4940</td>\n",
       "      <td>1.392610</td>\n",
       "    </tr>\n",
       "    <tr>\n",
       "      <th>2024-02-05  21:47:23</th>\n",
       "      <td>7.54452</td>\n",
       "      <td>28.4000</td>\n",
       "      <td>1.379200</td>\n",
       "    </tr>\n",
       "    <tr>\n",
       "      <th>2024-02-05  21:50:23</th>\n",
       "      <td>8.21336</td>\n",
       "      <td>28.3750</td>\n",
       "      <td>1.355820</td>\n",
       "    </tr>\n",
       "    <tr>\n",
       "      <th>2024-02-05  21:53:25</th>\n",
       "      <td>7.41639</td>\n",
       "      <td>28.2500</td>\n",
       "      <td>1.391750</td>\n",
       "    </tr>\n",
       "  </tbody>\n",
       "</table>\n",
       "<p>224 rows × 3 columns</p>\n",
       "</div>"
      ],
      "text/plain": [
       "                           ph     suhu       tds\n",
       "2024-01-19  15:05:53  8.29702  27.8750  1.614070\n",
       "2024-01-19  15:07:53  7.95103  27.8125  1.515378\n",
       "2024-01-19  15:09:53  8.11156  27.8125  1.509800\n",
       "2024-01-19  15:11:53  8.47022  27.7500  1.506790\n",
       "2024-01-19  15:13:53  8.20969  27.7500  1.415116\n",
       "...                       ...      ...       ...\n",
       "2024-02-05  21:41:23  7.91738  28.5400  1.444510\n",
       "2024-02-05  21:44:23  8.21208  28.4940  1.392610\n",
       "2024-02-05  21:47:23  7.54452  28.4000  1.379200\n",
       "2024-02-05  21:50:23  8.21336  28.3750  1.355820\n",
       "2024-02-05  21:53:25  7.41639  28.2500  1.391750\n",
       "\n",
       "[224 rows x 3 columns]"
      ]
     },
     "execution_count": 21,
     "metadata": {},
     "output_type": "execute_result"
    }
   ],
   "source": [
    "db_ref = db.reference('sensor_data')\n",
    "get_data = db_ref.get()\n",
    "df_train = pd.DataFrame(get_data)\n",
    "df_train = df_train.T\n",
    "df_train"
   ]
  },
  {
   "cell_type": "code",
   "execution_count": 22,
   "metadata": {},
   "outputs": [
    {
     "data": {
      "text/html": [
       "<div>\n",
       "<style scoped>\n",
       "    .dataframe tbody tr th:only-of-type {\n",
       "        vertical-align: middle;\n",
       "    }\n",
       "\n",
       "    .dataframe tbody tr th {\n",
       "        vertical-align: top;\n",
       "    }\n",
       "\n",
       "    .dataframe thead th {\n",
       "        text-align: right;\n",
       "    }\n",
       "</style>\n",
       "<table border=\"1\" class=\"dataframe\">\n",
       "  <thead>\n",
       "    <tr style=\"text-align: right;\">\n",
       "      <th></th>\n",
       "      <th>ph</th>\n",
       "      <th>suhu</th>\n",
       "      <th>tds</th>\n",
       "      <th>status_ph</th>\n",
       "      <th>status_suhu</th>\n",
       "      <th>status_tds</th>\n",
       "    </tr>\n",
       "  </thead>\n",
       "  <tbody>\n",
       "    <tr>\n",
       "      <th>2024-01-19  15:05:53</th>\n",
       "      <td>8.29702</td>\n",
       "      <td>27.8750</td>\n",
       "      <td>1.614070</td>\n",
       "      <td>Sesuai</td>\n",
       "      <td>Sesuai</td>\n",
       "      <td>Buruk</td>\n",
       "    </tr>\n",
       "    <tr>\n",
       "      <th>2024-01-19  15:07:53</th>\n",
       "      <td>7.95103</td>\n",
       "      <td>27.8125</td>\n",
       "      <td>1.515378</td>\n",
       "      <td>Sesuai</td>\n",
       "      <td>Sesuai</td>\n",
       "      <td>Buruk</td>\n",
       "    </tr>\n",
       "    <tr>\n",
       "      <th>2024-01-19  15:09:53</th>\n",
       "      <td>8.11156</td>\n",
       "      <td>27.8125</td>\n",
       "      <td>1.509800</td>\n",
       "      <td>Sesuai</td>\n",
       "      <td>Sesuai</td>\n",
       "      <td>Buruk</td>\n",
       "    </tr>\n",
       "    <tr>\n",
       "      <th>2024-01-19  15:11:53</th>\n",
       "      <td>8.47022</td>\n",
       "      <td>27.7500</td>\n",
       "      <td>1.506790</td>\n",
       "      <td>Sesuai</td>\n",
       "      <td>Sesuai</td>\n",
       "      <td>Buruk</td>\n",
       "    </tr>\n",
       "    <tr>\n",
       "      <th>2024-01-19  15:13:53</th>\n",
       "      <td>8.20969</td>\n",
       "      <td>27.7500</td>\n",
       "      <td>1.415116</td>\n",
       "      <td>Sesuai</td>\n",
       "      <td>Sesuai</td>\n",
       "      <td>Buruk</td>\n",
       "    </tr>\n",
       "    <tr>\n",
       "      <th>...</th>\n",
       "      <td>...</td>\n",
       "      <td>...</td>\n",
       "      <td>...</td>\n",
       "      <td>...</td>\n",
       "      <td>...</td>\n",
       "      <td>...</td>\n",
       "    </tr>\n",
       "    <tr>\n",
       "      <th>2024-02-05  21:41:23</th>\n",
       "      <td>7.91738</td>\n",
       "      <td>28.5400</td>\n",
       "      <td>1.444510</td>\n",
       "      <td>Sesuai</td>\n",
       "      <td>Sesuai</td>\n",
       "      <td>Buruk</td>\n",
       "    </tr>\n",
       "    <tr>\n",
       "      <th>2024-02-05  21:44:23</th>\n",
       "      <td>8.21208</td>\n",
       "      <td>28.4940</td>\n",
       "      <td>1.392610</td>\n",
       "      <td>Sesuai</td>\n",
       "      <td>Sesuai</td>\n",
       "      <td>Buruk</td>\n",
       "    </tr>\n",
       "    <tr>\n",
       "      <th>2024-02-05  21:47:23</th>\n",
       "      <td>7.54452</td>\n",
       "      <td>28.4000</td>\n",
       "      <td>1.379200</td>\n",
       "      <td>Sesuai</td>\n",
       "      <td>Sesuai</td>\n",
       "      <td>Buruk</td>\n",
       "    </tr>\n",
       "    <tr>\n",
       "      <th>2024-02-05  21:50:23</th>\n",
       "      <td>8.21336</td>\n",
       "      <td>28.3750</td>\n",
       "      <td>1.355820</td>\n",
       "      <td>Sesuai</td>\n",
       "      <td>Sesuai</td>\n",
       "      <td>Buruk</td>\n",
       "    </tr>\n",
       "    <tr>\n",
       "      <th>2024-02-05  21:53:25</th>\n",
       "      <td>7.41639</td>\n",
       "      <td>28.2500</td>\n",
       "      <td>1.391750</td>\n",
       "      <td>Waspada</td>\n",
       "      <td>Sesuai</td>\n",
       "      <td>Buruk</td>\n",
       "    </tr>\n",
       "  </tbody>\n",
       "</table>\n",
       "<p>224 rows × 6 columns</p>\n",
       "</div>"
      ],
      "text/plain": [
       "                           ph     suhu       tds status_ph status_suhu  \\\n",
       "2024-01-19  15:05:53  8.29702  27.8750  1.614070    Sesuai      Sesuai   \n",
       "2024-01-19  15:07:53  7.95103  27.8125  1.515378    Sesuai      Sesuai   \n",
       "2024-01-19  15:09:53  8.11156  27.8125  1.509800    Sesuai      Sesuai   \n",
       "2024-01-19  15:11:53  8.47022  27.7500  1.506790    Sesuai      Sesuai   \n",
       "2024-01-19  15:13:53  8.20969  27.7500  1.415116    Sesuai      Sesuai   \n",
       "...                       ...      ...       ...       ...         ...   \n",
       "2024-02-05  21:41:23  7.91738  28.5400  1.444510    Sesuai      Sesuai   \n",
       "2024-02-05  21:44:23  8.21208  28.4940  1.392610    Sesuai      Sesuai   \n",
       "2024-02-05  21:47:23  7.54452  28.4000  1.379200    Sesuai      Sesuai   \n",
       "2024-02-05  21:50:23  8.21336  28.3750  1.355820    Sesuai      Sesuai   \n",
       "2024-02-05  21:53:25  7.41639  28.2500  1.391750   Waspada      Sesuai   \n",
       "\n",
       "                     status_tds  \n",
       "2024-01-19  15:05:53      Buruk  \n",
       "2024-01-19  15:07:53      Buruk  \n",
       "2024-01-19  15:09:53      Buruk  \n",
       "2024-01-19  15:11:53      Buruk  \n",
       "2024-01-19  15:13:53      Buruk  \n",
       "...                         ...  \n",
       "2024-02-05  21:41:23      Buruk  \n",
       "2024-02-05  21:44:23      Buruk  \n",
       "2024-02-05  21:47:23      Buruk  \n",
       "2024-02-05  21:50:23      Buruk  \n",
       "2024-02-05  21:53:25      Buruk  \n",
       "\n",
       "[224 rows x 6 columns]"
      ]
     },
     "execution_count": 22,
     "metadata": {},
     "output_type": "execute_result"
    }
   ],
   "source": [
    "df_train = LabelStatus(df_train)\n",
    "df_train"
   ]
  },
  {
   "cell_type": "code",
   "execution_count": 23,
   "metadata": {},
   "outputs": [
    {
     "data": {
      "image/png": "[encoded data removed]",
      "text/plain": [
       "<Figure size 720x576 with 1 Axes>"
      ]
     },
     "metadata": {
      "needs_background": "light"
     },
     "output_type": "display_data"
    },
    {
     "data": {
      "image/png": "[encoded data removed]",
      "text/plain": [
       "<Figure size 720x576 with 1 Axes>"
      ]
     },
     "metadata": {
      "needs_background": "light"
     },
     "output_type": "display_data"
    },
    {
     "data": {
      "image/png": "[encoded data removed]",
      "text/plain": [
       "<Figure size 720x576 with 1 Axes>"
      ]
     },
     "metadata": {
      "needs_background": "light"
     },
     "output_type": "display_data"
    }
   ],
   "source": [
    "barplot_cek(df_train,'status_ph')\n",
    "barplot_cek(df_train,'status_suhu')\n",
    "barplot_cek(df_train,'status_tds')"
   ]
  },
  {
   "cell_type": "code",
   "execution_count": 24,
   "metadata": {},
   "outputs": [],
   "source": [
    "#Pembuatan kolom target \"status_sni\"\n",
    "def StatusrSNI(df):\n",
    "    \n",
    "    df['status_sni'] = None\n",
    "    df['ketidaksesuaian'] = None\n",
    "\n",
    "    # Cek apakah semua kolom 'status_ph', 'status_suhu', dan 'status_tds' adalah 'Sesuai'\n",
    "    for index, row in df.iterrows():\n",
    "        tidak_sesuai_baris = []\n",
    "        SNI = True\n",
    "        \n",
    "        if row['status_ph'] != 'Sesuai':\n",
    "            tidak_sesuai_baris.append(f'status_ph: {row[\"status_ph\"]}')\n",
    "            SNI = False\n",
    "        if row['status_suhu'] != 'Sesuai':\n",
    "            tidak_sesuai_baris.append(f'status_suhu: {row[\"status_suhu\"]}')\n",
    "            SNI = False\n",
    "        if row['status_tds'] != 'Sesuai':\n",
    "            tidak_sesuai_baris.append(f'status_tds: {row[\"status_tds\"]}')\n",
    "            SNI = False\n",
    "\n",
    "        \n",
    "        if SNI == False: \n",
    "            df.at[index, 'status_sni'] = 'Belum Memenuhi'\n",
    "            df.at[index, 'ketidaksesuaian'] = ', '.join(tidak_sesuai_baris)\n",
    "        elif SNI == True:\n",
    "            df.at[index, 'status_sni'] = 'Memenuhi'\n",
    "    return df"
   ]
  },
  {
   "cell_type": "code",
   "execution_count": 25,
   "metadata": {},
   "outputs": [
    {
     "data": {
      "text/html": [
       "<div>\n",
       "<style scoped>\n",
       "    .dataframe tbody tr th:only-of-type {\n",
       "        vertical-align: middle;\n",
       "    }\n",
       "\n",
       "    .dataframe tbody tr th {\n",
       "        vertical-align: top;\n",
       "    }\n",
       "\n",
       "    .dataframe thead th {\n",
       "        text-align: right;\n",
       "    }\n",
       "</style>\n",
       "<table border=\"1\" class=\"dataframe\">\n",
       "  <thead>\n",
       "    <tr style=\"text-align: right;\">\n",
       "      <th></th>\n",
       "      <th>ph</th>\n",
       "      <th>suhu</th>\n",
       "      <th>tds</th>\n",
       "      <th>status_ph</th>\n",
       "      <th>status_suhu</th>\n",
       "      <th>status_tds</th>\n",
       "      <th>status_sni</th>\n",
       "      <th>ketidaksesuaian</th>\n",
       "    </tr>\n",
       "  </thead>\n",
       "  <tbody>\n",
       "    <tr>\n",
       "      <th>2024-01-19  15:05:53</th>\n",
       "      <td>8.29702</td>\n",
       "      <td>27.8750</td>\n",
       "      <td>1.614070</td>\n",
       "      <td>Sesuai</td>\n",
       "      <td>Sesuai</td>\n",
       "      <td>Buruk</td>\n",
       "      <td>Belum Memenuhi</td>\n",
       "      <td>status_tds: Buruk</td>\n",
       "    </tr>\n",
       "    <tr>\n",
       "      <th>2024-01-19  15:07:53</th>\n",
       "      <td>7.95103</td>\n",
       "      <td>27.8125</td>\n",
       "      <td>1.515378</td>\n",
       "      <td>Sesuai</td>\n",
       "      <td>Sesuai</td>\n",
       "      <td>Buruk</td>\n",
       "      <td>Belum Memenuhi</td>\n",
       "      <td>status_tds: Buruk</td>\n",
       "    </tr>\n",
       "    <tr>\n",
       "      <th>2024-01-19  15:09:53</th>\n",
       "      <td>8.11156</td>\n",
       "      <td>27.8125</td>\n",
       "      <td>1.509800</td>\n",
       "      <td>Sesuai</td>\n",
       "      <td>Sesuai</td>\n",
       "      <td>Buruk</td>\n",
       "      <td>Belum Memenuhi</td>\n",
       "      <td>status_tds: Buruk</td>\n",
       "    </tr>\n",
       "    <tr>\n",
       "      <th>2024-01-19  15:11:53</th>\n",
       "      <td>8.47022</td>\n",
       "      <td>27.7500</td>\n",
       "      <td>1.506790</td>\n",
       "      <td>Sesuai</td>\n",
       "      <td>Sesuai</td>\n",
       "      <td>Buruk</td>\n",
       "      <td>Belum Memenuhi</td>\n",
       "      <td>status_tds: Buruk</td>\n",
       "    </tr>\n",
       "    <tr>\n",
       "      <th>2024-01-19  15:13:53</th>\n",
       "      <td>8.20969</td>\n",
       "      <td>27.7500</td>\n",
       "      <td>1.415116</td>\n",
       "      <td>Sesuai</td>\n",
       "      <td>Sesuai</td>\n",
       "      <td>Buruk</td>\n",
       "      <td>Belum Memenuhi</td>\n",
       "      <td>status_tds: Buruk</td>\n",
       "    </tr>\n",
       "    <tr>\n",
       "      <th>...</th>\n",
       "      <td>...</td>\n",
       "      <td>...</td>\n",
       "      <td>...</td>\n",
       "      <td>...</td>\n",
       "      <td>...</td>\n",
       "      <td>...</td>\n",
       "      <td>...</td>\n",
       "      <td>...</td>\n",
       "    </tr>\n",
       "    <tr>\n",
       "      <th>2024-02-05  21:41:23</th>\n",
       "      <td>7.91738</td>\n",
       "      <td>28.5400</td>\n",
       "      <td>1.444510</td>\n",
       "      <td>Sesuai</td>\n",
       "      <td>Sesuai</td>\n",
       "      <td>Buruk</td>\n",
       "      <td>Belum Memenuhi</td>\n",
       "      <td>status_tds: Buruk</td>\n",
       "    </tr>\n",
       "    <tr>\n",
       "      <th>2024-02-05  21:44:23</th>\n",
       "      <td>8.21208</td>\n",
       "      <td>28.4940</td>\n",
       "      <td>1.392610</td>\n",
       "      <td>Sesuai</td>\n",
       "      <td>Sesuai</td>\n",
       "      <td>Buruk</td>\n",
       "      <td>Belum Memenuhi</td>\n",
       "      <td>status_tds: Buruk</td>\n",
       "    </tr>\n",
       "    <tr>\n",
       "      <th>2024-02-05  21:47:23</th>\n",
       "      <td>7.54452</td>\n",
       "      <td>28.4000</td>\n",
       "      <td>1.379200</td>\n",
       "      <td>Sesuai</td>\n",
       "      <td>Sesuai</td>\n",
       "      <td>Buruk</td>\n",
       "      <td>Belum Memenuhi</td>\n",
       "      <td>status_tds: Buruk</td>\n",
       "    </tr>\n",
       "    <tr>\n",
       "      <th>2024-02-05  21:50:23</th>\n",
       "      <td>8.21336</td>\n",
       "      <td>28.3750</td>\n",
       "      <td>1.355820</td>\n",
       "      <td>Sesuai</td>\n",
       "      <td>Sesuai</td>\n",
       "      <td>Buruk</td>\n",
       "      <td>Belum Memenuhi</td>\n",
       "      <td>status_tds: Buruk</td>\n",
       "    </tr>\n",
       "    <tr>\n",
       "      <th>2024-02-05  21:53:25</th>\n",
       "      <td>7.41639</td>\n",
       "      <td>28.2500</td>\n",
       "      <td>1.391750</td>\n",
       "      <td>Waspada</td>\n",
       "      <td>Sesuai</td>\n",
       "      <td>Buruk</td>\n",
       "      <td>Belum Memenuhi</td>\n",
       "      <td>status_ph: Waspada, status_tds: Buruk</td>\n",
       "    </tr>\n",
       "  </tbody>\n",
       "</table>\n",
       "<p>224 rows × 8 columns</p>\n",
       "</div>"
      ],
      "text/plain": [
       "                           ph     suhu       tds status_ph status_suhu  \\\n",
       "2024-01-19  15:05:53  8.29702  27.8750  1.614070    Sesuai      Sesuai   \n",
       "2024-01-19  15:07:53  7.95103  27.8125  1.515378    Sesuai      Sesuai   \n",
       "2024-01-19  15:09:53  8.11156  27.8125  1.509800    Sesuai      Sesuai   \n",
       "2024-01-19  15:11:53  8.47022  27.7500  1.506790    Sesuai      Sesuai   \n",
       "2024-01-19  15:13:53  8.20969  27.7500  1.415116    Sesuai      Sesuai   \n",
       "...                       ...      ...       ...       ...         ...   \n",
       "2024-02-05  21:41:23  7.91738  28.5400  1.444510    Sesuai      Sesuai   \n",
       "2024-02-05  21:44:23  8.21208  28.4940  1.392610    Sesuai      Sesuai   \n",
       "2024-02-05  21:47:23  7.54452  28.4000  1.379200    Sesuai      Sesuai   \n",
       "2024-02-05  21:50:23  8.21336  28.3750  1.355820    Sesuai      Sesuai   \n",
       "2024-02-05  21:53:25  7.41639  28.2500  1.391750   Waspada      Sesuai   \n",
       "\n",
       "                     status_tds      status_sni  \\\n",
       "2024-01-19  15:05:53      Buruk  Belum Memenuhi   \n",
       "2024-01-19  15:07:53      Buruk  Belum Memenuhi   \n",
       "2024-01-19  15:09:53      Buruk  Belum Memenuhi   \n",
       "2024-01-19  15:11:53      Buruk  Belum Memenuhi   \n",
       "2024-01-19  15:13:53      Buruk  Belum Memenuhi   \n",
       "...                         ...             ...   \n",
       "2024-02-05  21:41:23      Buruk  Belum Memenuhi   \n",
       "2024-02-05  21:44:23      Buruk  Belum Memenuhi   \n",
       "2024-02-05  21:47:23      Buruk  Belum Memenuhi   \n",
       "2024-02-05  21:50:23      Buruk  Belum Memenuhi   \n",
       "2024-02-05  21:53:25      Buruk  Belum Memenuhi   \n",
       "\n",
       "                                            ketidaksesuaian  \n",
       "2024-01-19  15:05:53                      status_tds: Buruk  \n",
       "2024-01-19  15:07:53                      status_tds: Buruk  \n",
       "2024-01-19  15:09:53                      status_tds: Buruk  \n",
       "2024-01-19  15:11:53                      status_tds: Buruk  \n",
       "2024-01-19  15:13:53                      status_tds: Buruk  \n",
       "...                                                     ...  \n",
       "2024-02-05  21:41:23                      status_tds: Buruk  \n",
       "2024-02-05  21:44:23                      status_tds: Buruk  \n",
       "2024-02-05  21:47:23                      status_tds: Buruk  \n",
       "2024-02-05  21:50:23                      status_tds: Buruk  \n",
       "2024-02-05  21:53:25  status_ph: Waspada, status_tds: Buruk  \n",
       "\n",
       "[224 rows x 8 columns]"
      ]
     },
     "execution_count": 25,
     "metadata": {},
     "output_type": "execute_result"
    }
   ],
   "source": [
    "df_train = StatusrSNI(df_train)\n",
    "df_train"
   ]
  },
  {
   "cell_type": "code",
   "execution_count": 26,
   "metadata": {},
   "outputs": [
    {
     "data": {
      "text/plain": [
       "Belum Memenuhi    194\n",
       "Memenuhi           30\n",
       "Name: status_sni, dtype: int64"
      ]
     },
     "execution_count": 26,
     "metadata": {},
     "output_type": "execute_result"
    }
   ],
   "source": [
    "df_train['status_sni'].value_counts()"
   ]
  },
  {
   "cell_type": "code",
   "execution_count": 27,
   "metadata": {},
   "outputs": [
    {
     "data": {
      "image/png": "[encoded data removed]",
      "text/plain": [
       "<Figure size 720x576 with 1 Axes>"
      ]
     },
     "metadata": {
      "needs_background": "light"
     },
     "output_type": "display_data"
    }
   ],
   "source": [
    "plt.figure(figsize=(10,8))\n",
    "colorpalette = {'Memenuhi': 'seagreen', 'Belum Memenuhi': 'firebrick'}\n",
    "order = [\"Memenuhi\", \"Belum Memenuhi\"]\n",
    "ax = sns.countplot(data=df_train, x='status_sni', palette=colorpalette, order=order)\n",
    "plt.title('Jumlah Data Standar SNI',fontsize=14, weight='bold')\n",
    "plt.xlabel('status_sni',fontsize=13)\n",
    "plt.ylabel('Jumlah Data',fontsize=13)\n",
    "\n",
    "for p in ax.patches:\n",
    "    ax.annotate(f'{p.get_height()}', (p.get_x() + p.get_width() / 2., p.get_height()), ha='center', va='baseline',fontsize=14)"
   ]
  },
  {
   "cell_type": "code",
   "execution_count": 28,
   "metadata": {},
   "outputs": [
    {
     "name": "stdout",
     "output_type": "stream",
     "text": [
      "Dataframe Map\n"
     ]
    },
    {
     "data": {
      "text/html": [
       "<div>\n",
       "<style scoped>\n",
       "    .dataframe tbody tr th:only-of-type {\n",
       "        vertical-align: middle;\n",
       "    }\n",
       "\n",
       "    .dataframe tbody tr th {\n",
       "        vertical-align: top;\n",
       "    }\n",
       "\n",
       "    .dataframe thead th {\n",
       "        text-align: right;\n",
       "    }\n",
       "</style>\n",
       "<table border=\"1\" class=\"dataframe\">\n",
       "  <thead>\n",
       "    <tr style=\"text-align: right;\">\n",
       "      <th></th>\n",
       "      <th>status_ph</th>\n",
       "      <th>status_suhu</th>\n",
       "      <th>status_tds</th>\n",
       "      <th>status_sni</th>\n",
       "    </tr>\n",
       "  </thead>\n",
       "  <tbody>\n",
       "    <tr>\n",
       "      <th>2024-01-19  15:05:53</th>\n",
       "      <td>2</td>\n",
       "      <td>2</td>\n",
       "      <td>0</td>\n",
       "      <td>0</td>\n",
       "    </tr>\n",
       "    <tr>\n",
       "      <th>2024-01-19  15:07:53</th>\n",
       "      <td>2</td>\n",
       "      <td>2</td>\n",
       "      <td>0</td>\n",
       "      <td>0</td>\n",
       "    </tr>\n",
       "    <tr>\n",
       "      <th>2024-01-19  15:09:53</th>\n",
       "      <td>2</td>\n",
       "      <td>2</td>\n",
       "      <td>0</td>\n",
       "      <td>0</td>\n",
       "    </tr>\n",
       "    <tr>\n",
       "      <th>2024-01-19  15:11:53</th>\n",
       "      <td>2</td>\n",
       "      <td>2</td>\n",
       "      <td>0</td>\n",
       "      <td>0</td>\n",
       "    </tr>\n",
       "    <tr>\n",
       "      <th>2024-01-19  15:13:53</th>\n",
       "      <td>2</td>\n",
       "      <td>2</td>\n",
       "      <td>0</td>\n",
       "      <td>0</td>\n",
       "    </tr>\n",
       "    <tr>\n",
       "      <th>...</th>\n",
       "      <td>...</td>\n",
       "      <td>...</td>\n",
       "      <td>...</td>\n",
       "      <td>...</td>\n",
       "    </tr>\n",
       "    <tr>\n",
       "      <th>2024-02-05  21:41:23</th>\n",
       "      <td>2</td>\n",
       "      <td>2</td>\n",
       "      <td>0</td>\n",
       "      <td>0</td>\n",
       "    </tr>\n",
       "    <tr>\n",
       "      <th>2024-02-05  21:44:23</th>\n",
       "      <td>2</td>\n",
       "      <td>2</td>\n",
       "      <td>0</td>\n",
       "      <td>0</td>\n",
       "    </tr>\n",
       "    <tr>\n",
       "      <th>2024-02-05  21:47:23</th>\n",
       "      <td>2</td>\n",
       "      <td>2</td>\n",
       "      <td>0</td>\n",
       "      <td>0</td>\n",
       "    </tr>\n",
       "    <tr>\n",
       "      <th>2024-02-05  21:50:23</th>\n",
       "      <td>2</td>\n",
       "      <td>2</td>\n",
       "      <td>0</td>\n",
       "      <td>0</td>\n",
       "    </tr>\n",
       "    <tr>\n",
       "      <th>2024-02-05  21:53:25</th>\n",
       "      <td>1</td>\n",
       "      <td>2</td>\n",
       "      <td>0</td>\n",
       "      <td>0</td>\n",
       "    </tr>\n",
       "  </tbody>\n",
       "</table>\n",
       "<p>224 rows × 4 columns</p>\n",
       "</div>"
      ],
      "text/plain": [
       "                      status_ph  status_suhu  status_tds  status_sni\n",
       "2024-01-19  15:05:53          2            2           0           0\n",
       "2024-01-19  15:07:53          2            2           0           0\n",
       "2024-01-19  15:09:53          2            2           0           0\n",
       "2024-01-19  15:11:53          2            2           0           0\n",
       "2024-01-19  15:13:53          2            2           0           0\n",
       "...                         ...          ...         ...         ...\n",
       "2024-02-05  21:41:23          2            2           0           0\n",
       "2024-02-05  21:44:23          2            2           0           0\n",
       "2024-02-05  21:47:23          2            2           0           0\n",
       "2024-02-05  21:50:23          2            2           0           0\n",
       "2024-02-05  21:53:25          1            2           0           0\n",
       "\n",
       "[224 rows x 4 columns]"
      ]
     },
     "execution_count": 28,
     "metadata": {},
     "output_type": "execute_result"
    }
   ],
   "source": [
    "#Mapping data train\n",
    "df_map = df_train.copy()\n",
    "\n",
    "df_map=df_map.drop(columns=['ph', 'suhu', 'tds','ketidaksesuaian'])\n",
    "\n",
    "#kolom yang akan di encoder\n",
    "kolom_map = ['status_ph', 'status_suhu', 'status_tds', 'status_sni']\n",
    "\n",
    "# Dictionary untuk mapping label kategori\n",
    "    #Untuk Parameter pH, Suhu, TDS:\n",
    "        #label 0 = label 'Buruk'\n",
    "        #label 1 = label 'Waspada'\n",
    "        #label 2 = label 'Sesuai'\n",
    "        #label 3 = label 'Eror'\n",
    "\n",
    "    #Untuk Status SNI:\n",
    "        #label 0 = label 'Belum Memenuhi'\n",
    "        #label 1 = label 'Sudah Memenuhi'\n",
    "        \n",
    "label_mapping = {\n",
    "    'status_ph': {'Buruk': 0, 'Waspada': 1, 'Sesuai': 2, 'Eror': 3},\n",
    "    'status_suhu': {'Buruk': 0, 'Waspada': 1, 'Sesuai': 2},\n",
    "    'status_tds': {'Buruk': 0, 'Waspada': 1, 'Sesuai': 2, 'Eror': 3},\n",
    "    'status_sni': {'Belum Memenuhi': 0 , 'Memenuhi': 1}\n",
    "}\n",
    "\n",
    "for column in kolom_map:\n",
    "    df_map[column] = df_map[column].map(label_mapping[column])\n",
    "    \n",
    "df_map['status_ph'] = df_map['status_ph'].astype(int)\n",
    "df_map['status_suhu'] = df_map['status_suhu'].astype(int)\n",
    "df_map['status_tds'] = df_map['status_tds'].astype(int)\n",
    "\n",
    "print('Dataframe Map')\n",
    "df_map"
   ]
  },
  {
   "cell_type": "markdown",
   "metadata": {},
   "source": [
    "### Pembentukan Model"
   ]
  },
  {
   "cell_type": "markdown",
   "metadata": {},
   "source": [
    "##### OVERSAMPLING"
   ]
  },
  {
   "cell_type": "code",
   "execution_count": 29,
   "metadata": {},
   "outputs": [],
   "source": [
    "#upsample\n",
    "\n",
    "from sklearn.utils import resample\n",
    "\n",
    "# pembuatan dataframe majority dan minority\n",
    "df_majority = df_map[(df_map['status_sni']==0)] \n",
    "df_minority = df_map[(df_map['status_sni']==1)] \n",
    "\n",
    "# uppersample/oversample minority\n",
    "df_minority_upsampled = resample(df_minority, \n",
    "                                replace=True, \n",
    "                                n_samples=194, \n",
    "                                random_state=42)\n",
    "\n",
    "# menggabungkan df_majority dan df_minority\n",
    "df_upsampled = pd.concat([df_minority_upsampled, df_majority])"
   ]
  },
  {
   "cell_type": "code",
   "execution_count": 30,
   "metadata": {},
   "outputs": [
    {
     "data": {
      "text/plain": [
       "0    194\n",
       "1    194\n",
       "Name: status_sni, dtype: int64"
      ]
     },
     "execution_count": 30,
     "metadata": {},
     "output_type": "execute_result"
    }
   ],
   "source": [
    "df_upsampled['status_sni'].value_counts()"
   ]
  },
  {
   "cell_type": "code",
   "execution_count": 31,
   "metadata": {},
   "outputs": [
    {
     "data": {
      "image/png": "[encoded data removed]",
      "text/plain": [
       "<Figure size 720x576 with 1 Axes>"
      ]
     },
     "metadata": {
      "needs_background": "light"
     },
     "output_type": "display_data"
    }
   ],
   "source": [
    "plt.figure(figsize=(10,8))\n",
    "colorpalette = {1: 'seagreen', 0: 'firebrick'}\n",
    "order = [1, 0]\n",
    "ax = sns.countplot(data=df_upsampled, x='status_sni', palette=colorpalette ,order=order)\n",
    "plt.title('Jumlah Data Standar SNI',fontsize=14, weight='bold')\n",
    "plt.xlabel('status_sni',fontsize=13)\n",
    "plt.ylabel('Jumlah Data',fontsize=13)\n",
    "# Change x-axis labels\n",
    "ax.set_xticklabels(['Memenuhi', 'Belum Memenuhi'])\n",
    "\n",
    "for p in ax.patches:\n",
    "    ax.annotate(f'{p.get_height()}', (p.get_x() + p.get_width() / 2., p.get_height()), ha='center', va='baseline',fontsize=14)"
   ]
  },
  {
   "cell_type": "markdown",
   "metadata": {},
   "source": [
    "##### SPLIT DATA"
   ]
  },
  {
   "cell_type": "code",
   "execution_count": 32,
   "metadata": {},
   "outputs": [],
   "source": [
    "from sklearn.model_selection import train_test_split\n",
    "\n",
    "X = df_upsampled.loc[:, df_upsampled.columns != 'status_sni']\n",
    "y = df_upsampled['status_sni']\n",
    "\n",
    "# splitting X and y into training and testing sets\n",
    "X_train, X_test, y_train, y_test = train_test_split(X, y, test_size=0.30, random_state=1)"
   ]
  },
  {
   "cell_type": "markdown",
   "metadata": {},
   "source": [
    "##### Pemberingan *weight*"
   ]
  },
  {
   "cell_type": "code",
   "execution_count": 33,
   "metadata": {},
   "outputs": [],
   "source": [
    "from sklearn.neighbors import KernelDensity\n",
    "kde = KernelDensity(kernel='gaussian', bandwidth=0.2).fit(X_train)\n",
    "log_r = kde.score_samples(X_test)\n",
    "r = np.exp(log_r - np.mean(log_r))"
   ]
  },
  {
   "cell_type": "markdown",
   "metadata": {},
   "source": [
    "##### Random Forest"
   ]
  },
  {
   "cell_type": "code",
   "execution_count": 34,
   "metadata": {},
   "outputs": [
    {
     "name": "stdout",
     "output_type": "stream",
     "text": [
      "Fitting 5 folds for each of 64 candidates, totalling 320 fits\n"
     ]
    },
    {
     "data": {
      "text/plain": [
       "GridSearchCV(cv=5, error_score='raise',\n",
       "             estimator=RandomForestClassifier(class_weight={0: 0.012207078240798216,\n",
       "                                                            1: 0.011764792797291035},\n",
       "                                              n_jobs=-1, random_state=42),\n",
       "             n_jobs=1,\n",
       "             param_grid={'max_depth': [3, 5, 10, 15],\n",
       "                         'min_samples_leaf': [10, 15, 25, 50],\n",
       "                         'n_estimators': [2, 5, 7, 10]},\n",
       "             scoring='accuracy', verbose=1)"
      ]
     },
     "execution_count": 34,
     "metadata": {},
     "output_type": "execute_result"
    }
   ],
   "source": [
    "from sklearn.ensemble import RandomForestClassifier\n",
    "from sklearn.model_selection import GridSearchCV\n",
    "\n",
    "class_weights = np.mean(r) / np.bincount(y_train)\n",
    "class_weight_dict = {i: w for i, w in enumerate(class_weights)}\n",
    "\n",
    "rf=RandomForestClassifier(random_state=42, n_jobs=-1, class_weight=class_weight_dict)\n",
    "\n",
    "# Hyperparamter tuning dengan menggunakan Grid Search\n",
    "params = {'max_depth': [3,5,10,15],\n",
    "          'min_samples_leaf': [10,15,25,50],\n",
    "          'n_estimators': [2,5,7,10],\n",
    "        }\n",
    "\n",
    "grid_search_rf = GridSearchCV(estimator=rf,\n",
    "                            param_grid=params,\n",
    "                            cv = 5,\n",
    "                            n_jobs=1, verbose=1, scoring=\"accuracy\", error_score='raise')\n",
    "\n",
    "grid_search_rf.fit(X_train, y_train)"
   ]
  },
  {
   "cell_type": "code",
   "execution_count": 35,
   "metadata": {},
   "outputs": [
    {
     "name": "stdout",
     "output_type": "stream",
     "text": [
      "{'max_depth': 3, 'min_samples_leaf': 10, 'n_estimators': 2}\n",
      "score parameter terbaik:  1.0\n"
     ]
    }
   ],
   "source": [
    "print(grid_search_rf.best_params_)\n",
    "best_score = grid_search_rf.best_score_\n",
    "print(\"score parameter terbaik: \", best_score)"
   ]
  },
  {
   "cell_type": "code",
   "execution_count": 36,
   "metadata": {},
   "outputs": [
    {
     "data": {
      "text/plain": [
       "RandomForestClassifier(class_weight={0: 0.012207078240798216,\n",
       "                                     1: 0.011764792797291035},\n",
       "                       max_depth=3, min_samples_leaf=10, n_estimators=2,\n",
       "                       n_jobs=-1, random_state=42)"
      ]
     },
     "execution_count": 36,
     "metadata": {},
     "output_type": "execute_result"
    }
   ],
   "source": [
    "# Random Forest baru dengan parameter terbaik\n",
    "randomforest = grid_search_rf.best_estimator_\n",
    "randomforest.fit(X_train, y_train)"
   ]
  },
  {
   "cell_type": "code",
   "execution_count": 37,
   "metadata": {},
   "outputs": [],
   "source": [
    "y_pred_rf = randomforest.predict(X_test)"
   ]
  },
  {
   "cell_type": "code",
   "execution_count": 38,
   "metadata": {},
   "outputs": [
    {
     "name": "stdout",
     "output_type": "stream",
     "text": [
      "Confusion Matrix:\n"
     ]
    },
    {
     "data": {
      "image/png": "[encoded data removed]",
      "text/plain": [
       "<Figure size 576x432 with 2 Axes>"
      ]
     },
     "metadata": {
      "needs_background": "light"
     },
     "output_type": "display_data"
    }
   ],
   "source": [
    "from sklearn.metrics import accuracy_score\n",
    "from sklearn.metrics import precision_score\n",
    "from sklearn.metrics import recall_score\n",
    "from sklearn.metrics import confusion_matrix\n",
    "from sklearn import metrics\n",
    "\n",
    "# Evaluasi dengan Confusion Matrix\n",
    "conf_matrix = confusion_matrix(y_test, y_pred_rf)\n",
    "\n",
    "# Hasil\n",
    "print(\"Confusion Matrix:\")\n",
    "cm_display = metrics.ConfusionMatrixDisplay(confusion_matrix = conf_matrix, display_labels = [False, True])\n",
    "fig, ax = plt.subplots(figsize=(8, 6))\n",
    "cm_display.plot(ax=ax)\n",
    "plt.show()"
   ]
  },
  {
   "cell_type": "code",
   "execution_count": 39,
   "metadata": {},
   "outputs": [
    {
     "name": "stdout",
     "output_type": "stream",
     "text": [
      "\n",
      "Evaluasi Model:\n",
      "Accuracy: 1.00\n",
      "Precision: 1.00\n",
      "Recall: 1.00\n"
     ]
    }
   ],
   "source": [
    "# Menghitung metrik evaluasi\n",
    "accuracy = accuracy_score(y_test, y_pred_rf)\n",
    "precision = precision_score(y_test, y_pred_rf)\n",
    "recall = recall_score(y_test, y_pred_rf)\n",
    "\n",
    "print(\"\\nEvaluasi Model:\")\n",
    "print(f\"Accuracy: {accuracy:.2f}\")\n",
    "print(f\"Precision: {precision:.2f}\")\n",
    "print(f\"Recall: {recall:.2f}\")"
   ]
  },
  {
   "cell_type": "code",
   "execution_count": 40,
   "metadata": {},
   "outputs": [],
   "source": [
    "# Flip label\n",
    "num_negative = np.count_nonzero(y_train == 0)\n",
    "num_flips = int(num_negative * 0.50)\n",
    "\n",
    "flip_indices = np.arange(num_negative)[:num_flips]\n",
    "y_train[flip_indices] = 1"
   ]
  },
  {
   "cell_type": "code",
   "execution_count": 41,
   "metadata": {},
   "outputs": [
    {
     "data": {
      "text/plain": [
       "RandomForestClassifier(class_weight={0: 0.012207078240798216,\n",
       "                                     1: 0.011764792797291035},\n",
       "                       max_depth=3, min_samples_leaf=10, n_estimators=2,\n",
       "                       n_jobs=-1, random_state=42)"
      ]
     },
     "execution_count": 41,
     "metadata": {},
     "output_type": "execute_result"
    }
   ],
   "source": [
    "rf = grid_search_rf.best_estimator_\n",
    "rf.fit(X_train, y_train)"
   ]
  },
  {
   "cell_type": "code",
   "execution_count": 42,
   "metadata": {},
   "outputs": [],
   "source": [
    "y_pred_rf = rf.predict(X_test)"
   ]
  },
  {
   "cell_type": "code",
   "execution_count": 44,
   "metadata": {},
   "outputs": [
    {
     "name": "stdout",
     "output_type": "stream",
     "text": [
      "Confusion Matrix:\n"
     ]
    },
    {
     "data": {
      "image/png": "[encoded data removed]",
      "text/plain": [
       "<Figure size 576x432 with 2 Axes>"
      ]
     },
     "metadata": {
      "needs_background": "light"
     },
     "output_type": "display_data"
    }
   ],
   "source": [
    "# Evaluasi dengan Confusion Matrix\n",
    "conf_matrix_rf = confusion_matrix(y_test, y_pred_rf)\n",
    "\n",
    "# Hasil\n",
    "print(\"Confusion Matrix:\")\n",
    "cm_display = metrics.ConfusionMatrixDisplay(confusion_matrix = conf_matrix_rf, display_labels = ['Not Fulfill', 'Fulfill'])\n",
    "fig, ax = plt.subplots(figsize=(8, 6))\n",
    "cm_display.plot(ax=ax, cmap='BuGn')\n",
    "plt.show()"
   ]
  },
  {
   "cell_type": "code",
   "execution_count": 45,
   "metadata": {},
   "outputs": [
    {
     "name": "stdout",
     "output_type": "stream",
     "text": [
      "\n",
      "Evaluasi Model:\n",
      "Accuracy: 0.9744\n",
      "Precision: 0.9492\n",
      "Recall: 1.0000\n"
     ]
    }
   ],
   "source": [
    "# Menghitung metrik evaluasi\n",
    "accuracy_rf = accuracy_score(y_test, y_pred_rf)\n",
    "precision_rf = precision_score(y_test, y_pred_rf)\n",
    "recall_rf = recall_score(y_test, y_pred_rf)\n",
    "\n",
    "print(\"\\nEvaluasi Model:\")\n",
    "print(f\"Accuracy: {accuracy_rf:.4f}\")\n",
    "print(f\"Precision: {precision_rf:.4f}\")\n",
    "print(f\"Recall: {recall_rf:.4f}\")"
   ]
  },
  {
   "cell_type": "markdown",
   "metadata": {},
   "source": [
    "##### KNN"
   ]
  },
  {
   "cell_type": "code",
   "execution_count": 46,
   "metadata": {},
   "outputs": [
    {
     "data": {
      "text/plain": [
       "GridSearchCV(cv=5, error_score='raise', estimator=KNeighborsClassifier(),\n",
       "             param_grid={'n_neighbors': [2, 5, 7, 10]}, scoring='accuracy')"
      ]
     },
     "execution_count": 46,
     "metadata": {},
     "output_type": "execute_result"
    }
   ],
   "source": [
    "from sklearn.neighbors import KNeighborsClassifier\n",
    "\n",
    "param_grid = {\"n_neighbors\": [2,5,7,10]}\n",
    "\n",
    "knn = KNeighborsClassifier()\n",
    "\n",
    "grid_search_knn = GridSearchCV(knn, param_grid, cv=5, scoring=\"accuracy\", error_score='raise')\n",
    "grid_search_knn.fit(X_train, y_train)"
   ]
  },
  {
   "cell_type": "code",
   "execution_count": 47,
   "metadata": {},
   "outputs": [
    {
     "name": "stdout",
     "output_type": "stream",
     "text": [
      "{'n_neighbors': 2}\n",
      "score parameter terbaik:  0.812053872053872\n"
     ]
    }
   ],
   "source": [
    "print(grid_search_knn.best_params_)\n",
    "best_score = grid_search_knn.best_score_\n",
    "print(\"score parameter terbaik: \", best_score)"
   ]
  },
  {
   "cell_type": "code",
   "execution_count": 48,
   "metadata": {},
   "outputs": [
    {
     "data": {
      "text/plain": [
       "KNeighborsClassifier(n_neighbors=2)"
      ]
     },
     "execution_count": 48,
     "metadata": {},
     "output_type": "execute_result"
    }
   ],
   "source": [
    "knn = grid_search_knn.best_estimator_\n",
    "knn.fit(X_train, y_train)"
   ]
  },
  {
   "cell_type": "code",
   "execution_count": 49,
   "metadata": {},
   "outputs": [],
   "source": [
    "y_pred_knn = knn.predict(X_test)"
   ]
  },
  {
   "cell_type": "code",
   "execution_count": 50,
   "metadata": {},
   "outputs": [
    {
     "name": "stdout",
     "output_type": "stream",
     "text": [
      "Confusion Matrix:\n"
     ]
    },
    {
     "data": {
      "image/png": "[encoded data removed]",
      "text/plain": [
       "<Figure size 576x432 with 2 Axes>"
      ]
     },
     "metadata": {
      "needs_background": "light"
     },
     "output_type": "display_data"
    }
   ],
   "source": [
    "# Evaluasi dengan Confusion Matrix\n",
    "conf_matrix_knn = confusion_matrix(y_test, y_pred_knn)\n",
    "\n",
    "# Hasil\n",
    "print(\"Confusion Matrix:\")\n",
    "cm_display = metrics.ConfusionMatrixDisplay(confusion_matrix = conf_matrix_knn, display_labels = ['Belum Memenuhi', 'Memenuhi'])\n",
    "fig, ax = plt.subplots(figsize=(8, 6))\n",
    "cm_display.plot(ax=ax, cmap='BuGn')\n",
    "plt.show()"
   ]
  },
  {
   "cell_type": "code",
   "execution_count": 51,
   "metadata": {},
   "outputs": [
    {
     "name": "stdout",
     "output_type": "stream",
     "text": [
      "\n",
      "Evaluasi Model:\n",
      "Accuracy: 0.9487\n",
      "Precision: 0.9032\n",
      "Recall: 1.0000\n"
     ]
    }
   ],
   "source": [
    "# Menghitung metrik evaluasi\n",
    "accuracy_knn = accuracy_score(y_test, y_pred_knn)\n",
    "precision_knn = precision_score(y_test, y_pred_knn)\n",
    "recall_knn = recall_score(y_test, y_pred_knn)\n",
    "\n",
    "print(\"\\nEvaluasi Model:\")\n",
    "print(f\"Accuracy: {accuracy_knn:.4f}\")\n",
    "print(f\"Precision: {precision_knn:.4f}\")\n",
    "print(f\"Recall: {recall_knn:.4f}\")"
   ]
  },
  {
   "cell_type": "markdown",
   "metadata": {},
   "source": [
    "##### SVM"
   ]
  },
  {
   "cell_type": "code",
   "execution_count": 52,
   "metadata": {},
   "outputs": [
    {
     "name": "stdout",
     "output_type": "stream",
     "text": [
      "Fitting 5 folds for each of 32 candidates, totalling 160 fits\n"
     ]
    },
    {
     "data": {
      "text/plain": [
       "GridSearchCV(cv=5, error_score='raise', estimator=SVC(random_state=42),\n",
       "             n_jobs=-1,\n",
       "             param_grid={'C': [10, 15, 20, 25], 'gamma': [1, 0.1, 0.01, 0.001],\n",
       "                         'kernel': ['linear', 'rbf']},\n",
       "             scoring='accuracy', verbose=1)"
      ]
     },
     "execution_count": 52,
     "metadata": {},
     "output_type": "execute_result"
    }
   ],
   "source": [
    "from sklearn import svm\n",
    "\n",
    "params = {'C': [10,15,20,25],\n",
    "          'gamma': [1, 0.1, 0.01, 0.001],\n",
    "          'kernel': ['linear', 'rbf']}\n",
    "\n",
    "svm = svm.SVC(random_state=42)\n",
    "\n",
    "grid_search_svm = GridSearchCV(estimator=svm,\n",
    "                              param_grid=params,\n",
    "                              cv=5,\n",
    "                              n_jobs=-1,\n",
    "                              verbose=1,\n",
    "                              scoring=\"accuracy\",\n",
    "                              error_score='raise')\n",
    "\n",
    "grid_search_svm.fit(X_train, y_train)"
   ]
  },
  {
   "cell_type": "code",
   "execution_count": 53,
   "metadata": {},
   "outputs": [
    {
     "name": "stdout",
     "output_type": "stream",
     "text": [
      "Best parameters:  {'C': 25, 'gamma': 1, 'kernel': 'linear'}\n",
      "Best score:  0.8823569023569025\n"
     ]
    }
   ],
   "source": [
    "print(\"Best parameters: \", grid_search_svm.best_params_)\n",
    "print(\"Best score: \", grid_search_svm.best_score_)"
   ]
  },
  {
   "cell_type": "code",
   "execution_count": 54,
   "metadata": {},
   "outputs": [
    {
     "data": {
      "text/plain": [
       "SVC(C=25, gamma=1, kernel='linear', random_state=42)"
      ]
     },
     "execution_count": 54,
     "metadata": {},
     "output_type": "execute_result"
    }
   ],
   "source": [
    "svm = grid_search_svm.best_estimator_\n",
    "svm.fit(X_train, y_train)"
   ]
  },
  {
   "cell_type": "code",
   "execution_count": 55,
   "metadata": {},
   "outputs": [],
   "source": [
    "y_pred_svm = svm.predict(X_test)"
   ]
  },
  {
   "cell_type": "code",
   "execution_count": 56,
   "metadata": {},
   "outputs": [
    {
     "name": "stdout",
     "output_type": "stream",
     "text": [
      "Confusion Matrix:\n"
     ]
    },
    {
     "data": {
      "image/png": "[encoded data removed]",
      "text/plain": [
       "<Figure size 576x432 with 2 Axes>"
      ]
     },
     "metadata": {
      "needs_background": "light"
     },
     "output_type": "display_data"
    }
   ],
   "source": [
    "# Evaluasi dengan Confusion Matrix\n",
    "conf_matrix_svm = confusion_matrix(y_test, y_pred_svm)\n",
    "\n",
    "# Hasil\n",
    "print(\"Confusion Matrix:\")\n",
    "cm_display = metrics.ConfusionMatrixDisplay(confusion_matrix = conf_matrix_svm, display_labels = ['Belum Memenuhi', 'Memenuhi'])\n",
    "fig, ax = plt.subplots(figsize=(8, 6))\n",
    "cm_display.plot(ax=ax, cmap='BuGn')\n",
    "plt.show()"
   ]
  },
  {
   "cell_type": "code",
   "execution_count": 57,
   "metadata": {},
   "outputs": [
    {
     "name": "stdout",
     "output_type": "stream",
     "text": [
      "\n",
      "Evaluasi Model:\n",
      "Accuracy: 0.9573\n",
      "Precision: 0.9180\n",
      "Recall: 1.0000\n"
     ]
    }
   ],
   "source": [
    "# Menghitung metrik evaluasi\n",
    "accuracy_svm = accuracy_score(y_test, y_pred_svm)\n",
    "precision_svm = precision_score(y_test, y_pred_svm)\n",
    "recall_svm = recall_score(y_test, y_pred_svm)\n",
    "\n",
    "print(\"\\nEvaluasi Model:\")\n",
    "print(f\"Accuracy: {accuracy_svm:.4f}\")\n",
    "print(f\"Precision: {precision_svm:.4f}\")\n",
    "print(f\"Recall: {recall_svm:.4f}\")"
   ]
  },
  {
   "cell_type": "code",
   "execution_count": 58,
   "metadata": {},
   "outputs": [
    {
     "data": {
      "image/png": "[encoded data removed]",
      "text/plain": [
       "<Figure size 720x576 with 1 Axes>"
      ]
     },
     "metadata": {
      "needs_background": "light"
     },
     "output_type": "display_data"
    }
   ],
   "source": [
    "models = ['RF', 'SVM', 'KNN']\n",
    "# accuracy_rf = accuracy_rf * 100\n",
    "# accuracy_svm = accuracy_svm * 100\n",
    "# accuracy_knn = accuracy_knn * 100\n",
    "accuracies = [round(accuracy_rf, 2),  round(accuracy_svm, 2), round(accuracy_knn, 2)]\n",
    "\n",
    "plt.figure(figsize=(10,8))\n",
    "plt.bar(models, accuracies, color=['Mediumseagreen', 'Teal', 'Steelblue'])\n",
    "plt.ylabel('Akurasi (%)', fontsize =12)\n",
    "plt.xlabel('model', fontsize =12)\n",
    "plt.title('Komparasi Akurasi Model', weight='bold', fontsize =16)\n",
    "\n",
    "\n",
    "# Add labels and values to the bars\n",
    "for i, v in enumerate(accuracies):\n",
    "    plt.text(i, v+0.005, str(round(v, 3)), ha='center',fontsize =14)\n",
    "\n",
    "plt.show()"
   ]
  },
  {
   "cell_type": "code",
   "execution_count": 59,
   "metadata": {},
   "outputs": [
    {
     "data": {
      "image/png": "[encoded data removed]",
      "text/plain": [
       "<Figure size 792x432 with 3 Axes>"
      ]
     },
     "metadata": {
      "needs_background": "light"
     },
     "output_type": "display_data"
    }
   ],
   "source": [
    "import matplotlib.pyplot as plt\n",
    "\n",
    "models = [\"RF\",\"SVM\", \"KNN\"]\n",
    "accuracies = {\"RF\": round((accuracy_rf*100), 2), \"SVM\": round((accuracy_svm*100), 2), \"KNN\":round((accuracy_knn*100), 2)}\n",
    "precision = {\"RF\":round((precision_rf*100), 2), \"SVM\": round((precision_svm*100), 2), \"KNN\":round((precision_knn*100), 2)}\n",
    "recall = {\"RF\":round((recall_rf*100), 2), \"SVM\": round((recall_svm*100), 2), \"KNN\":round((recall_knn*100), 2)}\n",
    "\n",
    "colors = {\"RF\":\"teal\",\"SVM\": \"gainsboro\", \"KNN\": \"tomato\"}\n",
    "hatches = {\"RF\": None,\"SVM\":\"///\", \"KNN\": \"..\"}\n",
    "fig, axes = plt.subplots(1, 3, figsize=(11, 6))\n",
    "fig.suptitle('Komparasi Model', weight='bold')\n",
    "\n",
    "# Plot accuracy\n",
    "for model, acc in accuracies.items():\n",
    "    axes[0].bar(models.index(model), acc, color=colors[model], hatch=hatches.get(model), label=model)\n",
    "    axes[0].text(models.index(model), acc + 0.005, str(acc), ha='center',fontsize=16)\n",
    "axes[0].set_title(\"Akurasi\",fontsize = 15)\n",
    "axes[0].set_ylabel(\"Nilai (%)\")\n",
    "\n",
    "# Plot precision\n",
    "for model, prec in precision.items():\n",
    "    axes[1].bar(models.index(model), prec, color=colors[model], hatch=hatches.get(model), label=model)\n",
    "    axes[1].text(models.index(model), prec + 0.005, str(prec), ha='center',fontsize=16)\n",
    "axes[1].set_title(\"Presisi\",fontsize = 15)\n",
    "axes[1].set_xlabel(\"Model\")\n",
    "\n",
    "# Plot recall\n",
    "for model, rec in recall.items():\n",
    "    axes[2].bar(models.index(model), rec, color=colors[model], hatch=hatches.get(model), label=model)\n",
    "    axes[2].text(models.index(model), rec + 0.005, str(rec), ha='center',fontsize=16)\n",
    "axes[2].set_title(\"Recall\",fontsize = 15)\n",
    "\n",
    "# Set x-axis ticks and labels\n",
    "for ax in axes:\n",
    "    ax.set_xticks(range(len(models)))\n",
    "    ax.set_xticklabels(models, fontsize=14)\n",
    "\n",
    "# Show the plot\n",
    "plt.show()"
   ]
  },
  {
   "cell_type": "markdown",
   "metadata": {},
   "source": [
    "##### Feature Importance"
   ]
  },
  {
   "cell_type": "code",
   "execution_count": 60,
   "metadata": {},
   "outputs": [
    {
     "name": "stdout",
     "output_type": "stream",
     "text": [
      "       feature  importance\n",
      "2   status_tds       50.70\n",
      "0    status_ph       48.44\n",
      "1  status_suhu        0.86\n"
     ]
    }
   ],
   "source": [
    "importances = rf.feature_importances_\n",
    "feature_names = X_train.columns\n",
    "\n",
    "importances_df = pd.DataFrame({'feature': feature_names, 'importance': importances})\n",
    "importances_df['importance'] = np.round((importances_df['importance']*100), 2)\n",
    "\n",
    "#Mengurutkan data\n",
    "importances_df = importances_df.sort_values('importance', ascending=False)\n",
    "\n",
    "print(importances_df)"
   ]
  },
  {
   "cell_type": "code",
   "execution_count": 61,
   "metadata": {},
   "outputs": [
    {
     "data": {
      "image/png": "[encoded data removed]",
      "text/plain": [
       "<Figure size 720x576 with 1 Axes>"
      ]
     },
     "metadata": {
      "needs_background": "light"
     },
     "output_type": "display_data"
    }
   ],
   "source": [
    "#bar plot feature importances\n",
    "plt.figure(figsize=(10, 8))\n",
    "bars = plt.barh(importances_df['feature'], importances_df['importance'], color = 'Steelblue')\n",
    "plt.xlabel('Importance (%)')\n",
    "plt.ylabel('Fitur')\n",
    "plt.title('Feature Importances',fontweight='bold' )\n",
    "plt.grid(True,axis='x')\n",
    "for bar in bars:\n",
    "    plt.text(bar.get_width(), bar.get_y() + bar.get_height() / 2, round(bar.get_width(), 4), \n",
    "             ha='left', va='center', fontweight='bold')\n",
    "\n",
    "plt.show()"
   ]
  },
  {
   "cell_type": "markdown",
   "metadata": {},
   "source": [
    "##### Implementasi Model"
   ]
  },
  {
   "cell_type": "code",
   "execution_count": null,
   "metadata": {},
   "outputs": [],
   "source": [
    "df_uji2 = df_uji.copy()\n",
    "df_uji3 = df_uji.copy()\n"
   ]
  },
  {
   "cell_type": "code",
   "execution_count": null,
   "metadata": {},
   "outputs": [],
   "source": [
    "classification = rf.predict(df_uji[['status_ph', 'status_suhu', 'status_tds']])\n",
    "df_uji['status_sni'] = classification"
   ]
  },
  {
   "cell_type": "code",
   "execution_count": null,
   "metadata": {},
   "outputs": [],
   "source": [
    "df_uji"
   ]
  },
  {
   "cell_type": "code",
   "execution_count": null,
   "metadata": {},
   "outputs": [],
   "source": [
    "df_subset = df_map.sample(n=len(df_uji), random_state=42)\n",
    "y_status_SNI = df_subset['status_sni']\n",
    "y_pred_SNI = df_uji['status_sni']"
   ]
  },
  {
   "cell_type": "code",
   "execution_count": null,
   "metadata": {},
   "outputs": [],
   "source": [
    "conf_matrix_SNI = confusion_matrix(y_status_SNI, y_pred_SNI)\n",
    "print(\"Confusion Matrix:\")\n",
    "\n",
    "cm_display = metrics.ConfusionMatrixDisplay(confusion_matrix = conf_matrix_SNI, display_labels = ['Belum Memenuhi', 'Memenuhi'])\n",
    "fig, ax = plt.subplots(figsize=(8, 6))\n",
    "cm_display.plot(ax=ax, cmap='BuGn')"
   ]
  },
  {
   "cell_type": "code",
   "execution_count": null,
   "metadata": {},
   "outputs": [],
   "source": [
    "accuracy_SNI = accuracy_score(y_status_SNI, y_pred_SNI)\n",
    "precision_SNI = precision_score(y_status_SNI, y_pred_SNI)\n",
    "recall_SNI = recall_score(y_status_SNI, y_pred_SNI)\n",
    "\n",
    "print(\"\\nEvaluasi Kolom 'Status SNI':\")\n",
    "print(f\"Accuracy: {accuracy_SNI:.4f}\")\n",
    "print(f\"Precision: {precision_SNI:.4f}\")\n",
    "print(f\"Recall: {recall_SNI:.4f}\")"
   ]
  },
  {
   "cell_type": "code",
   "execution_count": null,
   "metadata": {},
   "outputs": [],
   "source": [
    "kolom_map = ['status_ph', 'status_suhu', 'status_tds','status_sni']\n",
    "\n",
    "label_mapping = {\n",
    "    'status_ph': {0: 'Buruk', 1: 'Waspada', 2:'Sesuai', 3: 'Eror'},\n",
    "    'status_suhu': {0: 'Buruk', 1: 'Waspada', 2:'Sesuai'},\n",
    "    'status_tds': {0: 'Buruk', 1: 'Waspada', 2:'Sesuai', 3: 'Eror'},\n",
    "    'status_sni': {0: 'Belum Memenuhi', 1: 'Memenuhi'},\n",
    "}\n",
    "\n",
    "for column in kolom_map:\n",
    "    df_uji[column] = df_uji[column].map(label_mapping[column])\n",
    "\n",
    "df_uji"
   ]
  },
  {
   "cell_type": "code",
   "execution_count": null,
   "metadata": {},
   "outputs": [],
   "source": [
    "df_final = df.join(df_uji[['status_sni']], on=df.index)"
   ]
  },
  {
   "cell_type": "code",
   "execution_count": null,
   "metadata": {},
   "outputs": [],
   "source": [
    "df_final"
   ]
  },
  {
   "cell_type": "code",
   "execution_count": null,
   "metadata": {},
   "outputs": [],
   "source": [
    "df_final['ketidaksesuaian'] = None\n",
    "\n",
    "for index, row in df.iterrows():\n",
    "    tidak_sesuai_baris = []\n",
    "    \n",
    "    if row['status_ph'] != 'Sesuai':\n",
    "        tidak_sesuai_baris.append(f'status_ph: {row[\"status_ph\"]}')\n",
    "    elif row['status_suhu'] != 'Sesuai':\n",
    "        tidak_sesuai_baris.append(f'status_suhu: {row[\"status_suhu\"]}')\n",
    "    elif row['status_tds'] != 'Sesuai':\n",
    "        tidak_sesuai_baris.append(f'status_tds: {row[\"status_tds\"]}')\n",
    "\n",
    "    df_final.at[index, 'ketidaksesuaian'] = ', '.join(tidak_sesuai_baris)\n",
    "df_final"
   ]
  },
  {
   "cell_type": "code",
   "execution_count": null,
   "metadata": {},
   "outputs": [],
   "source": [
    "df_final['rekomendasi_aksi'] = None\n",
    "for index, row in df.iterrows():\n",
    "    rekomendasi = []\n",
    "    if row['status_ph'] != 'Sesuai':\n",
    "        if row  ['ph'] < 7.5 :\n",
    "            rekomendasi.append(\"Berikan Kalsium hidroksida (Ca(OH)2) 5-10 ppm\")\n",
    "        elif row ['ph'] > 8.5 :\n",
    "            rekomendasi.append(\"Tebarkan Molase\")\n",
    "    if row['status_suhu'] != 'Sesuai':\n",
    "        if row  ['suhu'] < 27 :\n",
    "            rekomendasi.append(\"Kurangin pemberian makan\")  \n",
    "    if row['status_tds'] != 'Sesuai':\n",
    "        if row  ['tds'] < 0.15 :\n",
    "            rekomendasi.append(\"Tambahkan kadar mineral atau Tingkatkan populasi plankton\")\n",
    "        elif row ['tds'] > 0.20 :\n",
    "            rekomendasi.append(\"Kuras Air Tambak\")\n",
    "            \n",
    "    df_final.at[index, 'rekomendasi_aksi'] = ', '.join(rekomendasi)     \n",
    "df_final\n"
   ]
  },
  {
   "cell_type": "markdown",
   "metadata": {},
   "source": [
    "##### Implementasi SVM"
   ]
  },
  {
   "cell_type": "code",
   "execution_count": null,
   "metadata": {},
   "outputs": [],
   "source": [
    "df_uji2"
   ]
  },
  {
   "cell_type": "code",
   "execution_count": null,
   "metadata": {},
   "outputs": [],
   "source": [
    "classification2 = svm.predict(df_uji2[['status_ph', 'status_suhu', 'status_tds']])\n",
    "df_uji2['status_sni'] = classification2"
   ]
  },
  {
   "cell_type": "code",
   "execution_count": null,
   "metadata": {},
   "outputs": [],
   "source": [
    "df_uji2"
   ]
  },
  {
   "cell_type": "code",
   "execution_count": null,
   "metadata": {},
   "outputs": [],
   "source": [
    "y_status_SNI = df_subset['status_sni']\n",
    "y_pred_svm = df_uji2['status_sni']"
   ]
  },
  {
   "cell_type": "code",
   "execution_count": null,
   "metadata": {},
   "outputs": [],
   "source": [
    "conf_matrix_SNI_svm = confusion_matrix(y_status_SNI, y_pred_svm)\n",
    "print(\"Confusion Matrix:\")\n",
    "\n",
    "cm_display = metrics.ConfusionMatrixDisplay(confusion_matrix = conf_matrix_SNI_svm, display_labels = ['Not Fulfill', 'Fulfill'])\n",
    "fig, ax = plt.subplots(figsize=(8, 6))\n",
    "cm_display.plot(ax=ax, cmap='BuGn')"
   ]
  },
  {
   "cell_type": "code",
   "execution_count": null,
   "metadata": {},
   "outputs": [],
   "source": [
    "accuracy_SNI_svm = accuracy_score(y_status_SNI, y_pred_svm)\n",
    "precision_SNI_svm = precision_score(y_status_SNI, y_pred_svm)\n",
    "recall_SNI_svm = recall_score(y_status_SNI, y_pred_svm)\n",
    "\n",
    "print(\"\\nEvaluasi Kolom 'Status SNI':\")\n",
    "print(f\"Accuracy: {accuracy_SNI_svm:.4f}\")\n",
    "print(f\"Precision: {precision_SNI_svm:.4f}\")\n",
    "print(f\"Recall: {recall_SNI_svm:.4f}\")"
   ]
  },
  {
   "cell_type": "markdown",
   "metadata": {},
   "source": [
    "##### implementasi knn"
   ]
  },
  {
   "cell_type": "code",
   "execution_count": null,
   "metadata": {},
   "outputs": [],
   "source": [
    "df_uji3"
   ]
  },
  {
   "cell_type": "code",
   "execution_count": null,
   "metadata": {},
   "outputs": [],
   "source": [
    "classification3 = knn.predict(df_uji3[['status_ph', 'status_suhu', 'status_tds']])\n",
    "df_uji3['status_sni'] = classification3"
   ]
  },
  {
   "cell_type": "code",
   "execution_count": null,
   "metadata": {},
   "outputs": [],
   "source": [
    "df_uji3"
   ]
  },
  {
   "cell_type": "code",
   "execution_count": null,
   "metadata": {},
   "outputs": [],
   "source": [
    "y_pred_knn = df_uji3['status_sni']"
   ]
  },
  {
   "cell_type": "code",
   "execution_count": null,
   "metadata": {},
   "outputs": [],
   "source": [
    "conf_matrix_SNI_knn = confusion_matrix(y_status_SNI, y_pred_knn)\n",
    "print(\"Confusion Matrix:\")\n",
    "\n",
    "cm_display = metrics.ConfusionMatrixDisplay(confusion_matrix = conf_matrix_SNI_knn, display_labels = ['Belum Memenuhi', 'Memenuhi'])\n",
    "fig, ax = plt.subplots(figsize=(8, 6))\n",
    "cm_display.plot(ax=ax, cmap='BuGn')"
   ]
  },
  {
   "cell_type": "code",
   "execution_count": null,
   "metadata": {},
   "outputs": [],
   "source": [
    "accuracy_SNI_knn = accuracy_score(y_status_SNI, y_pred_knn)\n",
    "precision_SNI_knn = precision_score(y_status_SNI, y_pred_knn)\n",
    "recall_SNI_knn = recall_score(y_status_SNI, y_pred_knn)\n",
    "\n",
    "print(\"\\nEvaluasi Kolom 'Status SNI':\")\n",
    "print(f\"Accuracy: {accuracy_SNI_knn:.4f}\")\n",
    "print(f\"Precision: {precision_SNI_knn:.4f}\")\n",
    "print(f\"Recall: {recall_SNI_knn:.4f}\")"
   ]
  },
  {
   "cell_type": "code",
   "execution_count": null,
   "metadata": {},
   "outputs": [],
   "source": [
    "models = ['RF', 'SVM', 'KNN']\n",
    "# accuracy_rf = accuracy_rf * 100\n",
    "# accuracy_svm = accuracy_svm * 100\n",
    "# accuracy_knn = accuracy_knn * 100\n",
    "accuracies = [round(accuracy_rf, 2),  round(accuracy_svm, 2), round(accuracy_knn, 2)]\n",
    "\n",
    "plt.figure(figsize=(10,8))\n",
    "plt.bar(models, accuracies, color=['Mediumseagreen', 'Teal', 'Steelblue'])\n",
    "plt.ylabel('Akurasi (%)', fontsize =12)\n",
    "plt.xlabel('model', fontsize =12)\n",
    "plt.title('Komparasi Akurasi Model', weight='bold', fontsize =16)\n",
    "\n",
    "\n",
    "# Add labels and values to the bars\n",
    "for i, v in enumerate(accuracies):\n",
    "    plt.text(i, v+0.005, str(round(v, 3)), ha='center',fontsize =14)\n",
    "\n",
    "plt.show()"
   ]
  },
  {
   "cell_type": "code",
   "execution_count": null,
   "metadata": {},
   "outputs": [],
   "source": [
    "models = ['RF', 'SVM', 'KNN']\n",
    "accuracies = {\"RF\": round((accuracy_SNI*100), 2), \"SVM\": round((accuracy_SNI_svm*100), 2), \"KNN\":round((accuracy_SNI_knn*100), 2)}\n",
    "\n",
    "plt.figure(figsize=(10,8))\n",
    "colors = {\"RF\":\"teal\",\"SVM\": \"gainsboro\", \"KNN\": \"tomato\"}\n",
    "hatches = {\"RF\": None,\"SVM\":\"///\", \"KNN\": \"..\"}\n",
    "plt.ylabel('Accuracy (%)', fontsize =12)\n",
    "plt.xlabel('Model', fontsize =12)\n",
    "plt.title('Komparasi Akurasi antar Model', weight='bold', fontsize =16)\n",
    "plt.legend(loc='upper left')\n",
    "\n",
    "for i, model in enumerate(models):\n",
    "    plt.bar(model, accuracies[model], bottom=0, color=colors[model], hatch=hatches.get(model), label=model)\n",
    "    plt.annotate(f'{accuracies[model]:.2f}', xy=(model, accuracies[model]), xytext=(model, accuracies[model]+1), fontsize=14, ha='center')\n",
    "\n",
    "plt.show()"
   ]
  },
  {
   "cell_type": "code",
   "execution_count": null,
   "metadata": {},
   "outputs": [],
   "source": [
    "models = [\"RF\",\"SVM\", \"KNN\"]\n",
    "accuracies = {\"RF\": round((accuracy_SNI*100), 2), \"SVM\": round((accuracy_SNI_svm*100), 2), \"KNN\":round((accuracy_SNI_knn*100), 2)}\n",
    "precision = {\"RF\":round((precision_SNI*100), 2), \"SVM\": round((precision_SNI_svm*100), 2), \"KNN\":round((precision_SNI_knn*100), 2)}\n",
    "recall = {\"RF\":round((recall_SNI*100), 2), \"SVM\": round((recall_SNI_svm*100), 2), \"KNN\":round((recall_SNI_knn*100), 2)}\n",
    "\n",
    "colors = {\"RF\":\"teal\",\"SVM\": \"gainsboro\", \"KNN\": \"tomato\"}\n",
    "hatches = {\"RF\": None,\"SVM\":\"///\", \"KNN\": \"..\"}\n",
    "fig, axes = plt.subplots(1, 3, figsize=(11, 6))\n",
    "fig.suptitle('Komparasi Model', weight='bold')\n",
    "\n",
    "# Plot accuracy\n",
    "for model, acc in accuracies.items():\n",
    "    axes[0].bar(models.index(model), acc, color=colors[model], hatch=hatches.get(model), label=model)\n",
    "    axes[0].text(models.index(model), acc + 0.005, str(acc), ha='center',fontsize=16)\n",
    "axes[0].set_title(\"Akurasi\",fontsize = 15)\n",
    "axes[0].set_ylabel(\"Nilai (%)\")\n",
    "\n",
    "# Plot precision\n",
    "for model, prec in precision.items():\n",
    "    axes[1].bar(models.index(model), prec, color=colors[model], hatch=hatches.get(model), label=model)\n",
    "    axes[1].text(models.index(model), prec + 0.005, str(prec), ha='center',fontsize=16)\n",
    "axes[1].set_title(\"Presisi\",fontsize = 15)\n",
    "axes[1].set_xlabel(\"Model\")\n",
    "axes[1].set_ylim(bottom=0)\n",
    "axes[1].yaxis.set_major_locator(plt.MultipleLocator(1))\n",
    "\n",
    "# Plot recall\n",
    "for model, rec in recall.items():\n",
    "    axes[2].bar(models.index(model), rec, color=colors[model], hatch=hatches.get(model), label=model)\n",
    "    axes[2].text(models.index(model), rec + 0.005, str(rec), ha='center',fontsize=16)\n",
    "axes[2].set_title(\"Recall\",fontsize = 15)\n",
    "axes[2].set_ylim(bottom=0)\n",
    "axes[2].yaxis.set_major_locator(plt.MultipleLocator(1))\n",
    "\n",
    "# Set x-axis ticks and labels\n",
    "for ax in axes:\n",
    "    ax.set_xticks(range(len(models)))\n",
    "    ax.set_xticklabels(models, fontsize=14)\n",
    "\n",
    "# Show the plot\n",
    "plt.show()"
   ]
  }
 ],
 "metadata": {
  "kernelspec": {
   "display_name": "Env",
   "language": "python",
   "name": "python3"
  },
  "language_info": {
   "codemirror_mode": {
    "name": "ipython",
    "version": 3
   },
   "file_extension": ".py",
   "mimetype": "text/x-python",
   "name": "python",
   "nbconvert_exporter": "python",
   "pygments_lexer": "ipython3",
   "version": "3.8.8"
  },
  "orig_nbformat": 4
 },
 "nbformat": 4,
 "nbformat_minor": 2
}
